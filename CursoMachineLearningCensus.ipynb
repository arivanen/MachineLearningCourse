{
 "cells": [
  {
   "cell_type": "code",
   "execution_count": 2,
   "metadata": {},
   "outputs": [],
   "source": [
    "import pandas as pd\n",
    "import numpy as np\n",
    "import seaborn as sns\n",
    "import matplotlib.pyplot as plt\n",
    "import plotly.express as px"
   ]
  },
  {
   "cell_type": "code",
   "execution_count": 3,
   "metadata": {},
   "outputs": [
    {
     "name": "stdout",
     "output_type": "stream",
     "text": [
      "Requirement already up-to-date: plotly in c:\\users\\user\\anaconda3\\lib\\site-packages (5.1.0)\n",
      "Requirement already satisfied, skipping upgrade: six in c:\\users\\user\\anaconda3\\lib\\site-packages (from plotly) (1.12.0)\n",
      "Requirement already satisfied, skipping upgrade: tenacity>=6.2.0 in c:\\users\\user\\anaconda3\\lib\\site-packages (from plotly) (7.0.0)\n"
     ]
    }
   ],
   "source": [
    "!pip install plotly --upgrade"
   ]
  },
  {
   "cell_type": "code",
   "execution_count": 3,
   "metadata": {},
   "outputs": [
    {
     "data": {
      "text/plain": [
       "'C:\\\\Users\\\\User'"
      ]
     },
     "execution_count": 3,
     "metadata": {},
     "output_type": "execute_result"
    }
   ],
   "source": [
    "pwd\n"
   ]
  },
  {
   "cell_type": "code",
   "execution_count": 4,
   "metadata": {},
   "outputs": [],
   "source": [
    "base_credit = pd.read_csv(\"C:\\\\Users\\\\User\\\\credit_data_tratado.csv\")"
   ]
  },
  {
   "cell_type": "code",
   "execution_count": 5,
   "metadata": {},
   "outputs": [
    {
     "data": {
      "text/html": [
       "<div>\n",
       "<style scoped>\n",
       "    .dataframe tbody tr th:only-of-type {\n",
       "        vertical-align: middle;\n",
       "    }\n",
       "\n",
       "    .dataframe tbody tr th {\n",
       "        vertical-align: top;\n",
       "    }\n",
       "\n",
       "    .dataframe thead th {\n",
       "        text-align: right;\n",
       "    }\n",
       "</style>\n",
       "<table border=\"1\" class=\"dataframe\">\n",
       "  <thead>\n",
       "    <tr style=\"text-align: right;\">\n",
       "      <th></th>\n",
       "      <th>Unnamed: 0</th>\n",
       "      <th>clientid</th>\n",
       "      <th>income</th>\n",
       "      <th>age</th>\n",
       "      <th>loan</th>\n",
       "      <th>default</th>\n",
       "    </tr>\n",
       "  </thead>\n",
       "  <tbody>\n",
       "    <tr>\n",
       "      <th>0</th>\n",
       "      <td>0</td>\n",
       "      <td>1</td>\n",
       "      <td>66155.925095</td>\n",
       "      <td>59.017015</td>\n",
       "      <td>8106.532131</td>\n",
       "      <td>0</td>\n",
       "    </tr>\n",
       "    <tr>\n",
       "      <th>1</th>\n",
       "      <td>1</td>\n",
       "      <td>2</td>\n",
       "      <td>34415.153966</td>\n",
       "      <td>48.117153</td>\n",
       "      <td>6564.745018</td>\n",
       "      <td>0</td>\n",
       "    </tr>\n",
       "    <tr>\n",
       "      <th>2</th>\n",
       "      <td>2</td>\n",
       "      <td>3</td>\n",
       "      <td>57317.170063</td>\n",
       "      <td>63.108049</td>\n",
       "      <td>8020.953296</td>\n",
       "      <td>0</td>\n",
       "    </tr>\n",
       "    <tr>\n",
       "      <th>3</th>\n",
       "      <td>3</td>\n",
       "      <td>4</td>\n",
       "      <td>42709.534201</td>\n",
       "      <td>45.751972</td>\n",
       "      <td>6103.642260</td>\n",
       "      <td>0</td>\n",
       "    </tr>\n",
       "    <tr>\n",
       "      <th>4</th>\n",
       "      <td>4</td>\n",
       "      <td>5</td>\n",
       "      <td>66952.688845</td>\n",
       "      <td>18.584336</td>\n",
       "      <td>8770.099235</td>\n",
       "      <td>1</td>\n",
       "    </tr>\n",
       "    <tr>\n",
       "      <th>5</th>\n",
       "      <td>5</td>\n",
       "      <td>6</td>\n",
       "      <td>24904.064140</td>\n",
       "      <td>57.471607</td>\n",
       "      <td>15.498598</td>\n",
       "      <td>0</td>\n",
       "    </tr>\n",
       "    <tr>\n",
       "      <th>6</th>\n",
       "      <td>6</td>\n",
       "      <td>7</td>\n",
       "      <td>48430.359613</td>\n",
       "      <td>26.809132</td>\n",
       "      <td>5722.581981</td>\n",
       "      <td>0</td>\n",
       "    </tr>\n",
       "    <tr>\n",
       "      <th>7</th>\n",
       "      <td>7</td>\n",
       "      <td>8</td>\n",
       "      <td>24500.141984</td>\n",
       "      <td>32.897548</td>\n",
       "      <td>2971.003310</td>\n",
       "      <td>1</td>\n",
       "    </tr>\n",
       "    <tr>\n",
       "      <th>8</th>\n",
       "      <td>8</td>\n",
       "      <td>9</td>\n",
       "      <td>40654.892537</td>\n",
       "      <td>55.496853</td>\n",
       "      <td>4755.825280</td>\n",
       "      <td>0</td>\n",
       "    </tr>\n",
       "    <tr>\n",
       "      <th>9</th>\n",
       "      <td>9</td>\n",
       "      <td>10</td>\n",
       "      <td>25075.872771</td>\n",
       "      <td>39.776378</td>\n",
       "      <td>1409.230371</td>\n",
       "      <td>0</td>\n",
       "    </tr>\n",
       "    <tr>\n",
       "      <th>10</th>\n",
       "      <td>10</td>\n",
       "      <td>11</td>\n",
       "      <td>64131.415372</td>\n",
       "      <td>25.679575</td>\n",
       "      <td>4351.028971</td>\n",
       "      <td>0</td>\n",
       "    </tr>\n",
       "    <tr>\n",
       "      <th>11</th>\n",
       "      <td>11</td>\n",
       "      <td>12</td>\n",
       "      <td>59436.847123</td>\n",
       "      <td>60.471936</td>\n",
       "      <td>9254.244538</td>\n",
       "      <td>0</td>\n",
       "    </tr>\n",
       "    <tr>\n",
       "      <th>12</th>\n",
       "      <td>12</td>\n",
       "      <td>13</td>\n",
       "      <td>61050.346079</td>\n",
       "      <td>26.355044</td>\n",
       "      <td>5893.264659</td>\n",
       "      <td>0</td>\n",
       "    </tr>\n",
       "    <tr>\n",
       "      <th>13</th>\n",
       "      <td>13</td>\n",
       "      <td>14</td>\n",
       "      <td>27267.995458</td>\n",
       "      <td>61.576776</td>\n",
       "      <td>4759.787581</td>\n",
       "      <td>0</td>\n",
       "    </tr>\n",
       "    <tr>\n",
       "      <th>14</th>\n",
       "      <td>14</td>\n",
       "      <td>15</td>\n",
       "      <td>63061.960174</td>\n",
       "      <td>39.201553</td>\n",
       "      <td>1850.369377</td>\n",
       "      <td>0</td>\n",
       "    </tr>\n",
       "    <tr>\n",
       "      <th>15</th>\n",
       "      <td>15</td>\n",
       "      <td>16</td>\n",
       "      <td>50501.726689</td>\n",
       "      <td>40.927700</td>\n",
       "      <td>3977.287432</td>\n",
       "      <td>0</td>\n",
       "    </tr>\n",
       "    <tr>\n",
       "      <th>16</th>\n",
       "      <td>16</td>\n",
       "      <td>17</td>\n",
       "      <td>43548.654711</td>\n",
       "      <td>39.574530</td>\n",
       "      <td>3935.544453</td>\n",
       "      <td>0</td>\n",
       "    </tr>\n",
       "    <tr>\n",
       "      <th>17</th>\n",
       "      <td>17</td>\n",
       "      <td>18</td>\n",
       "      <td>43378.175194</td>\n",
       "      <td>60.848318</td>\n",
       "      <td>3277.737553</td>\n",
       "      <td>0</td>\n",
       "    </tr>\n",
       "    <tr>\n",
       "      <th>18</th>\n",
       "      <td>18</td>\n",
       "      <td>19</td>\n",
       "      <td>20542.365073</td>\n",
       "      <td>61.690571</td>\n",
       "      <td>3157.442290</td>\n",
       "      <td>0</td>\n",
       "    </tr>\n",
       "    <tr>\n",
       "      <th>19</th>\n",
       "      <td>19</td>\n",
       "      <td>20</td>\n",
       "      <td>58887.357549</td>\n",
       "      <td>26.076093</td>\n",
       "      <td>4965.516066</td>\n",
       "      <td>0</td>\n",
       "    </tr>\n",
       "    <tr>\n",
       "      <th>20</th>\n",
       "      <td>20</td>\n",
       "      <td>21</td>\n",
       "      <td>23000.784002</td>\n",
       "      <td>31.761354</td>\n",
       "      <td>1148.118057</td>\n",
       "      <td>0</td>\n",
       "    </tr>\n",
       "    <tr>\n",
       "      <th>21</th>\n",
       "      <td>21</td>\n",
       "      <td>22</td>\n",
       "      <td>32197.620701</td>\n",
       "      <td>40.927700</td>\n",
       "      <td>4244.057136</td>\n",
       "      <td>0</td>\n",
       "    </tr>\n",
       "    <tr>\n",
       "      <th>22</th>\n",
       "      <td>22</td>\n",
       "      <td>23</td>\n",
       "      <td>23329.319414</td>\n",
       "      <td>48.576975</td>\n",
       "      <td>222.622299</td>\n",
       "      <td>0</td>\n",
       "    </tr>\n",
       "    <tr>\n",
       "      <th>23</th>\n",
       "      <td>23</td>\n",
       "      <td>24</td>\n",
       "      <td>27845.800894</td>\n",
       "      <td>51.970624</td>\n",
       "      <td>4959.921226</td>\n",
       "      <td>0</td>\n",
       "    </tr>\n",
       "    <tr>\n",
       "      <th>24</th>\n",
       "      <td>24</td>\n",
       "      <td>25</td>\n",
       "      <td>65301.984029</td>\n",
       "      <td>48.840922</td>\n",
       "      <td>5465.267886</td>\n",
       "      <td>0</td>\n",
       "    </tr>\n",
       "    <tr>\n",
       "      <th>25</th>\n",
       "      <td>25</td>\n",
       "      <td>26</td>\n",
       "      <td>47451.630123</td>\n",
       "      <td>27.031741</td>\n",
       "      <td>5361.282716</td>\n",
       "      <td>0</td>\n",
       "    </tr>\n",
       "    <tr>\n",
       "      <th>26</th>\n",
       "      <td>26</td>\n",
       "      <td>27</td>\n",
       "      <td>63287.038908</td>\n",
       "      <td>40.927700</td>\n",
       "      <td>9595.286289</td>\n",
       "      <td>0</td>\n",
       "    </tr>\n",
       "    <tr>\n",
       "      <th>27</th>\n",
       "      <td>27</td>\n",
       "      <td>28</td>\n",
       "      <td>45727.459870</td>\n",
       "      <td>55.839922</td>\n",
       "      <td>6376.822949</td>\n",
       "      <td>0</td>\n",
       "    </tr>\n",
       "    <tr>\n",
       "      <th>28</th>\n",
       "      <td>28</td>\n",
       "      <td>29</td>\n",
       "      <td>59417.805406</td>\n",
       "      <td>40.927700</td>\n",
       "      <td>2082.625938</td>\n",
       "      <td>0</td>\n",
       "    </tr>\n",
       "    <tr>\n",
       "      <th>29</th>\n",
       "      <td>29</td>\n",
       "      <td>30</td>\n",
       "      <td>58842.891308</td>\n",
       "      <td>54.510948</td>\n",
       "      <td>10871.186790</td>\n",
       "      <td>0</td>\n",
       "    </tr>\n",
       "    <tr>\n",
       "      <th>...</th>\n",
       "      <td>...</td>\n",
       "      <td>...</td>\n",
       "      <td>...</td>\n",
       "      <td>...</td>\n",
       "      <td>...</td>\n",
       "      <td>...</td>\n",
       "    </tr>\n",
       "    <tr>\n",
       "      <th>1970</th>\n",
       "      <td>1970</td>\n",
       "      <td>1971</td>\n",
       "      <td>68047.925311</td>\n",
       "      <td>47.694520</td>\n",
       "      <td>4023.064765</td>\n",
       "      <td>0</td>\n",
       "    </tr>\n",
       "    <tr>\n",
       "      <th>1971</th>\n",
       "      <td>1971</td>\n",
       "      <td>1972</td>\n",
       "      <td>36275.735863</td>\n",
       "      <td>30.308184</td>\n",
       "      <td>644.384195</td>\n",
       "      <td>0</td>\n",
       "    </tr>\n",
       "    <tr>\n",
       "      <th>1972</th>\n",
       "      <td>1972</td>\n",
       "      <td>1973</td>\n",
       "      <td>52389.366848</td>\n",
       "      <td>54.969313</td>\n",
       "      <td>10398.820592</td>\n",
       "      <td>0</td>\n",
       "    </tr>\n",
       "    <tr>\n",
       "      <th>1973</th>\n",
       "      <td>1973</td>\n",
       "      <td>1974</td>\n",
       "      <td>23678.376111</td>\n",
       "      <td>47.466485</td>\n",
       "      <td>1779.814597</td>\n",
       "      <td>0</td>\n",
       "    </tr>\n",
       "    <tr>\n",
       "      <th>1974</th>\n",
       "      <td>1974</td>\n",
       "      <td>1975</td>\n",
       "      <td>37707.642948</td>\n",
       "      <td>31.344048</td>\n",
       "      <td>268.290971</td>\n",
       "      <td>0</td>\n",
       "    </tr>\n",
       "    <tr>\n",
       "      <th>1975</th>\n",
       "      <td>1975</td>\n",
       "      <td>1976</td>\n",
       "      <td>57753.568962</td>\n",
       "      <td>54.235915</td>\n",
       "      <td>5067.449964</td>\n",
       "      <td>0</td>\n",
       "    </tr>\n",
       "    <tr>\n",
       "      <th>1976</th>\n",
       "      <td>1976</td>\n",
       "      <td>1977</td>\n",
       "      <td>30529.963288</td>\n",
       "      <td>47.604402</td>\n",
       "      <td>6046.840845</td>\n",
       "      <td>0</td>\n",
       "    </tr>\n",
       "    <tr>\n",
       "      <th>1977</th>\n",
       "      <td>1977</td>\n",
       "      <td>1978</td>\n",
       "      <td>44022.268737</td>\n",
       "      <td>31.192627</td>\n",
       "      <td>1707.672870</td>\n",
       "      <td>0</td>\n",
       "    </tr>\n",
       "    <tr>\n",
       "      <th>1978</th>\n",
       "      <td>1978</td>\n",
       "      <td>1979</td>\n",
       "      <td>58533.884683</td>\n",
       "      <td>40.518963</td>\n",
       "      <td>7832.443321</td>\n",
       "      <td>0</td>\n",
       "    </tr>\n",
       "    <tr>\n",
       "      <th>1979</th>\n",
       "      <td>1979</td>\n",
       "      <td>1980</td>\n",
       "      <td>33702.531834</td>\n",
       "      <td>48.148404</td>\n",
       "      <td>922.036590</td>\n",
       "      <td>0</td>\n",
       "    </tr>\n",
       "    <tr>\n",
       "      <th>1980</th>\n",
       "      <td>1980</td>\n",
       "      <td>1981</td>\n",
       "      <td>40236.872067</td>\n",
       "      <td>52.580773</td>\n",
       "      <td>4354.314412</td>\n",
       "      <td>0</td>\n",
       "    </tr>\n",
       "    <tr>\n",
       "      <th>1981</th>\n",
       "      <td>1981</td>\n",
       "      <td>1982</td>\n",
       "      <td>62619.155988</td>\n",
       "      <td>43.999461</td>\n",
       "      <td>3959.611772</td>\n",
       "      <td>0</td>\n",
       "    </tr>\n",
       "    <tr>\n",
       "      <th>1982</th>\n",
       "      <td>1982</td>\n",
       "      <td>1983</td>\n",
       "      <td>50738.362193</td>\n",
       "      <td>45.993199</td>\n",
       "      <td>9719.562798</td>\n",
       "      <td>0</td>\n",
       "    </tr>\n",
       "    <tr>\n",
       "      <th>1983</th>\n",
       "      <td>1983</td>\n",
       "      <td>1984</td>\n",
       "      <td>64466.760138</td>\n",
       "      <td>33.327144</td>\n",
       "      <td>8537.369666</td>\n",
       "      <td>1</td>\n",
       "    </tr>\n",
       "    <tr>\n",
       "      <th>1984</th>\n",
       "      <td>1984</td>\n",
       "      <td>1985</td>\n",
       "      <td>64636.402186</td>\n",
       "      <td>60.886966</td>\n",
       "      <td>2583.106425</td>\n",
       "      <td>0</td>\n",
       "    </tr>\n",
       "    <tr>\n",
       "      <th>1985</th>\n",
       "      <td>1985</td>\n",
       "      <td>1986</td>\n",
       "      <td>22371.522191</td>\n",
       "      <td>39.142225</td>\n",
       "      <td>2291.856428</td>\n",
       "      <td>0</td>\n",
       "    </tr>\n",
       "    <tr>\n",
       "      <th>1986</th>\n",
       "      <td>1986</td>\n",
       "      <td>1987</td>\n",
       "      <td>67994.988470</td>\n",
       "      <td>38.622259</td>\n",
       "      <td>7289.014109</td>\n",
       "      <td>0</td>\n",
       "    </tr>\n",
       "    <tr>\n",
       "      <th>1987</th>\n",
       "      <td>1987</td>\n",
       "      <td>1988</td>\n",
       "      <td>49640.004702</td>\n",
       "      <td>20.542409</td>\n",
       "      <td>5760.858734</td>\n",
       "      <td>0</td>\n",
       "    </tr>\n",
       "    <tr>\n",
       "      <th>1988</th>\n",
       "      <td>1988</td>\n",
       "      <td>1989</td>\n",
       "      <td>42067.246446</td>\n",
       "      <td>24.270612</td>\n",
       "      <td>4601.606183</td>\n",
       "      <td>0</td>\n",
       "    </tr>\n",
       "    <tr>\n",
       "      <th>1989</th>\n",
       "      <td>1989</td>\n",
       "      <td>1990</td>\n",
       "      <td>43662.092688</td>\n",
       "      <td>25.252609</td>\n",
       "      <td>7269.596897</td>\n",
       "      <td>1</td>\n",
       "    </tr>\n",
       "    <tr>\n",
       "      <th>1990</th>\n",
       "      <td>1990</td>\n",
       "      <td>1991</td>\n",
       "      <td>34237.575419</td>\n",
       "      <td>34.101654</td>\n",
       "      <td>2658.090632</td>\n",
       "      <td>0</td>\n",
       "    </tr>\n",
       "    <tr>\n",
       "      <th>1991</th>\n",
       "      <td>1991</td>\n",
       "      <td>1992</td>\n",
       "      <td>26300.446554</td>\n",
       "      <td>45.539385</td>\n",
       "      <td>2317.393678</td>\n",
       "      <td>0</td>\n",
       "    </tr>\n",
       "    <tr>\n",
       "      <th>1992</th>\n",
       "      <td>1992</td>\n",
       "      <td>1993</td>\n",
       "      <td>30803.806165</td>\n",
       "      <td>23.250084</td>\n",
       "      <td>623.024153</td>\n",
       "      <td>0</td>\n",
       "    </tr>\n",
       "    <tr>\n",
       "      <th>1993</th>\n",
       "      <td>1993</td>\n",
       "      <td>1994</td>\n",
       "      <td>54421.410155</td>\n",
       "      <td>26.821928</td>\n",
       "      <td>3273.631823</td>\n",
       "      <td>0</td>\n",
       "    </tr>\n",
       "    <tr>\n",
       "      <th>1994</th>\n",
       "      <td>1994</td>\n",
       "      <td>1995</td>\n",
       "      <td>24254.700791</td>\n",
       "      <td>37.751622</td>\n",
       "      <td>2225.284643</td>\n",
       "      <td>0</td>\n",
       "    </tr>\n",
       "    <tr>\n",
       "      <th>1995</th>\n",
       "      <td>1995</td>\n",
       "      <td>1996</td>\n",
       "      <td>59221.044874</td>\n",
       "      <td>48.518179</td>\n",
       "      <td>1926.729397</td>\n",
       "      <td>0</td>\n",
       "    </tr>\n",
       "    <tr>\n",
       "      <th>1996</th>\n",
       "      <td>1996</td>\n",
       "      <td>1997</td>\n",
       "      <td>69516.127573</td>\n",
       "      <td>23.162104</td>\n",
       "      <td>3503.176156</td>\n",
       "      <td>0</td>\n",
       "    </tr>\n",
       "    <tr>\n",
       "      <th>1997</th>\n",
       "      <td>1997</td>\n",
       "      <td>1998</td>\n",
       "      <td>44311.449262</td>\n",
       "      <td>28.017167</td>\n",
       "      <td>5522.786693</td>\n",
       "      <td>1</td>\n",
       "    </tr>\n",
       "    <tr>\n",
       "      <th>1998</th>\n",
       "      <td>1998</td>\n",
       "      <td>1999</td>\n",
       "      <td>43756.056605</td>\n",
       "      <td>63.971796</td>\n",
       "      <td>1622.722598</td>\n",
       "      <td>0</td>\n",
       "    </tr>\n",
       "    <tr>\n",
       "      <th>1999</th>\n",
       "      <td>1999</td>\n",
       "      <td>2000</td>\n",
       "      <td>69436.579552</td>\n",
       "      <td>56.152617</td>\n",
       "      <td>7378.833599</td>\n",
       "      <td>0</td>\n",
       "    </tr>\n",
       "  </tbody>\n",
       "</table>\n",
       "<p>2000 rows × 6 columns</p>\n",
       "</div>"
      ],
      "text/plain": [
       "      Unnamed: 0  clientid        income        age          loan  default\n",
       "0              0         1  66155.925095  59.017015   8106.532131        0\n",
       "1              1         2  34415.153966  48.117153   6564.745018        0\n",
       "2              2         3  57317.170063  63.108049   8020.953296        0\n",
       "3              3         4  42709.534201  45.751972   6103.642260        0\n",
       "4              4         5  66952.688845  18.584336   8770.099235        1\n",
       "5              5         6  24904.064140  57.471607     15.498598        0\n",
       "6              6         7  48430.359613  26.809132   5722.581981        0\n",
       "7              7         8  24500.141984  32.897548   2971.003310        1\n",
       "8              8         9  40654.892537  55.496853   4755.825280        0\n",
       "9              9        10  25075.872771  39.776378   1409.230371        0\n",
       "10            10        11  64131.415372  25.679575   4351.028971        0\n",
       "11            11        12  59436.847123  60.471936   9254.244538        0\n",
       "12            12        13  61050.346079  26.355044   5893.264659        0\n",
       "13            13        14  27267.995458  61.576776   4759.787581        0\n",
       "14            14        15  63061.960174  39.201553   1850.369377        0\n",
       "15            15        16  50501.726689  40.927700   3977.287432        0\n",
       "16            16        17  43548.654711  39.574530   3935.544453        0\n",
       "17            17        18  43378.175194  60.848318   3277.737553        0\n",
       "18            18        19  20542.365073  61.690571   3157.442290        0\n",
       "19            19        20  58887.357549  26.076093   4965.516066        0\n",
       "20            20        21  23000.784002  31.761354   1148.118057        0\n",
       "21            21        22  32197.620701  40.927700   4244.057136        0\n",
       "22            22        23  23329.319414  48.576975    222.622299        0\n",
       "23            23        24  27845.800894  51.970624   4959.921226        0\n",
       "24            24        25  65301.984029  48.840922   5465.267886        0\n",
       "25            25        26  47451.630123  27.031741   5361.282716        0\n",
       "26            26        27  63287.038908  40.927700   9595.286289        0\n",
       "27            27        28  45727.459870  55.839922   6376.822949        0\n",
       "28            28        29  59417.805406  40.927700   2082.625938        0\n",
       "29            29        30  58842.891308  54.510948  10871.186790        0\n",
       "...          ...       ...           ...        ...           ...      ...\n",
       "1970        1970      1971  68047.925311  47.694520   4023.064765        0\n",
       "1971        1971      1972  36275.735863  30.308184    644.384195        0\n",
       "1972        1972      1973  52389.366848  54.969313  10398.820592        0\n",
       "1973        1973      1974  23678.376111  47.466485   1779.814597        0\n",
       "1974        1974      1975  37707.642948  31.344048    268.290971        0\n",
       "1975        1975      1976  57753.568962  54.235915   5067.449964        0\n",
       "1976        1976      1977  30529.963288  47.604402   6046.840845        0\n",
       "1977        1977      1978  44022.268737  31.192627   1707.672870        0\n",
       "1978        1978      1979  58533.884683  40.518963   7832.443321        0\n",
       "1979        1979      1980  33702.531834  48.148404    922.036590        0\n",
       "1980        1980      1981  40236.872067  52.580773   4354.314412        0\n",
       "1981        1981      1982  62619.155988  43.999461   3959.611772        0\n",
       "1982        1982      1983  50738.362193  45.993199   9719.562798        0\n",
       "1983        1983      1984  64466.760138  33.327144   8537.369666        1\n",
       "1984        1984      1985  64636.402186  60.886966   2583.106425        0\n",
       "1985        1985      1986  22371.522191  39.142225   2291.856428        0\n",
       "1986        1986      1987  67994.988470  38.622259   7289.014109        0\n",
       "1987        1987      1988  49640.004702  20.542409   5760.858734        0\n",
       "1988        1988      1989  42067.246446  24.270612   4601.606183        0\n",
       "1989        1989      1990  43662.092688  25.252609   7269.596897        1\n",
       "1990        1990      1991  34237.575419  34.101654   2658.090632        0\n",
       "1991        1991      1992  26300.446554  45.539385   2317.393678        0\n",
       "1992        1992      1993  30803.806165  23.250084    623.024153        0\n",
       "1993        1993      1994  54421.410155  26.821928   3273.631823        0\n",
       "1994        1994      1995  24254.700791  37.751622   2225.284643        0\n",
       "1995        1995      1996  59221.044874  48.518179   1926.729397        0\n",
       "1996        1996      1997  69516.127573  23.162104   3503.176156        0\n",
       "1997        1997      1998  44311.449262  28.017167   5522.786693        1\n",
       "1998        1998      1999  43756.056605  63.971796   1622.722598        0\n",
       "1999        1999      2000  69436.579552  56.152617   7378.833599        0\n",
       "\n",
       "[2000 rows x 6 columns]"
      ]
     },
     "execution_count": 5,
     "metadata": {},
     "output_type": "execute_result"
    }
   ],
   "source": [
    "base_credit\n"
   ]
  },
  {
   "cell_type": "code",
   "execution_count": 6,
   "metadata": {},
   "outputs": [],
   "source": [
    "x_credit = base_credit.iloc[:, 1:4].values\n"
   ]
  },
  {
   "cell_type": "code",
   "execution_count": 7,
   "metadata": {},
   "outputs": [
    {
     "data": {
      "text/plain": [
       "array([[1.00000000e+00, 6.61559251e+04, 5.90170151e+01],\n",
       "       [2.00000000e+00, 3.44151540e+04, 4.81171531e+01],\n",
       "       [3.00000000e+00, 5.73171701e+04, 6.31080495e+01],\n",
       "       ...,\n",
       "       [1.99800000e+03, 4.43114493e+04, 2.80171669e+01],\n",
       "       [1.99900000e+03, 4.37560566e+04, 6.39717958e+01],\n",
       "       [2.00000000e+03, 6.94365796e+04, 5.61526170e+01]])"
      ]
     },
     "execution_count": 7,
     "metadata": {},
     "output_type": "execute_result"
    }
   ],
   "source": [
    "x_credit"
   ]
  },
  {
   "cell_type": "code",
   "execution_count": 8,
   "metadata": {},
   "outputs": [],
   "source": [
    "y_credit=base_credit.iloc[:, 4].values #mostra os valores "
   ]
  },
  {
   "cell_type": "code",
   "execution_count": 9,
   "metadata": {},
   "outputs": [
    {
     "data": {
      "text/plain": [
       "array([8106.53213129, 6564.74501768, 8020.95329639, ..., 5522.78669326,\n",
       "       1622.72259832, 7378.83359873])"
      ]
     },
     "execution_count": 9,
     "metadata": {},
     "output_type": "execute_result"
    }
   ],
   "source": [
    "y_credit"
   ]
  },
  {
   "cell_type": "code",
   "execution_count": 10,
   "metadata": {},
   "outputs": [
    {
     "data": {
      "text/plain": [
       "numpy.ndarray"
      ]
     },
     "execution_count": 10,
     "metadata": {},
     "output_type": "execute_result"
    }
   ],
   "source": [
    "type(y_credit)"
   ]
  },
  {
   "cell_type": "code",
   "execution_count": 11,
   "metadata": {},
   "outputs": [],
   "source": [
    "from sklearn.preprocessing import StandardScaler #colocar os parâmetros na mesma escala para o código não entender que um é mais importante que outro\n",
    "scaler_credit= StandardScaler()\n",
    "x_credit= scaler_credit.fit_transform(x_credit)\n"
   ]
  },
  {
   "cell_type": "code",
   "execution_count": 12,
   "metadata": {},
   "outputs": [],
   "source": [
    "#base de dados census\n",
    "base_census= pd.read_csv(\"C:\\\\Users\\\\User\\\\census.csv\")\n"
   ]
  },
  {
   "cell_type": "code",
   "execution_count": 13,
   "metadata": {},
   "outputs": [
    {
     "data": {
      "text/html": [
       "<div>\n",
       "<style scoped>\n",
       "    .dataframe tbody tr th:only-of-type {\n",
       "        vertical-align: middle;\n",
       "    }\n",
       "\n",
       "    .dataframe tbody tr th {\n",
       "        vertical-align: top;\n",
       "    }\n",
       "\n",
       "    .dataframe thead th {\n",
       "        text-align: right;\n",
       "    }\n",
       "</style>\n",
       "<table border=\"1\" class=\"dataframe\">\n",
       "  <thead>\n",
       "    <tr style=\"text-align: right;\">\n",
       "      <th></th>\n",
       "      <th>age</th>\n",
       "      <th>final-weight</th>\n",
       "      <th>education-num</th>\n",
       "      <th>capital-gain</th>\n",
       "      <th>capital-loos</th>\n",
       "      <th>hour-per-week</th>\n",
       "    </tr>\n",
       "  </thead>\n",
       "  <tbody>\n",
       "    <tr>\n",
       "      <th>count</th>\n",
       "      <td>32561.000000</td>\n",
       "      <td>3.256100e+04</td>\n",
       "      <td>32561.000000</td>\n",
       "      <td>32561.000000</td>\n",
       "      <td>32561.000000</td>\n",
       "      <td>32561.000000</td>\n",
       "    </tr>\n",
       "    <tr>\n",
       "      <th>mean</th>\n",
       "      <td>38.581647</td>\n",
       "      <td>1.897784e+05</td>\n",
       "      <td>10.080679</td>\n",
       "      <td>1077.648844</td>\n",
       "      <td>87.303830</td>\n",
       "      <td>40.437456</td>\n",
       "    </tr>\n",
       "    <tr>\n",
       "      <th>std</th>\n",
       "      <td>13.640433</td>\n",
       "      <td>1.055500e+05</td>\n",
       "      <td>2.572720</td>\n",
       "      <td>7385.292085</td>\n",
       "      <td>402.960219</td>\n",
       "      <td>12.347429</td>\n",
       "    </tr>\n",
       "    <tr>\n",
       "      <th>min</th>\n",
       "      <td>17.000000</td>\n",
       "      <td>1.228500e+04</td>\n",
       "      <td>1.000000</td>\n",
       "      <td>0.000000</td>\n",
       "      <td>0.000000</td>\n",
       "      <td>1.000000</td>\n",
       "    </tr>\n",
       "    <tr>\n",
       "      <th>25%</th>\n",
       "      <td>28.000000</td>\n",
       "      <td>1.178270e+05</td>\n",
       "      <td>9.000000</td>\n",
       "      <td>0.000000</td>\n",
       "      <td>0.000000</td>\n",
       "      <td>40.000000</td>\n",
       "    </tr>\n",
       "    <tr>\n",
       "      <th>50%</th>\n",
       "      <td>37.000000</td>\n",
       "      <td>1.783560e+05</td>\n",
       "      <td>10.000000</td>\n",
       "      <td>0.000000</td>\n",
       "      <td>0.000000</td>\n",
       "      <td>40.000000</td>\n",
       "    </tr>\n",
       "    <tr>\n",
       "      <th>75%</th>\n",
       "      <td>48.000000</td>\n",
       "      <td>2.370510e+05</td>\n",
       "      <td>12.000000</td>\n",
       "      <td>0.000000</td>\n",
       "      <td>0.000000</td>\n",
       "      <td>45.000000</td>\n",
       "    </tr>\n",
       "    <tr>\n",
       "      <th>max</th>\n",
       "      <td>90.000000</td>\n",
       "      <td>1.484705e+06</td>\n",
       "      <td>16.000000</td>\n",
       "      <td>99999.000000</td>\n",
       "      <td>4356.000000</td>\n",
       "      <td>99.000000</td>\n",
       "    </tr>\n",
       "  </tbody>\n",
       "</table>\n",
       "</div>"
      ],
      "text/plain": [
       "                age  final-weight  education-num  capital-gain  capital-loos  \\\n",
       "count  32561.000000  3.256100e+04   32561.000000  32561.000000  32561.000000   \n",
       "mean      38.581647  1.897784e+05      10.080679   1077.648844     87.303830   \n",
       "std       13.640433  1.055500e+05       2.572720   7385.292085    402.960219   \n",
       "min       17.000000  1.228500e+04       1.000000      0.000000      0.000000   \n",
       "25%       28.000000  1.178270e+05       9.000000      0.000000      0.000000   \n",
       "50%       37.000000  1.783560e+05      10.000000      0.000000      0.000000   \n",
       "75%       48.000000  2.370510e+05      12.000000      0.000000      0.000000   \n",
       "max       90.000000  1.484705e+06      16.000000  99999.000000   4356.000000   \n",
       "\n",
       "       hour-per-week  \n",
       "count   32561.000000  \n",
       "mean       40.437456  \n",
       "std        12.347429  \n",
       "min         1.000000  \n",
       "25%        40.000000  \n",
       "50%        40.000000  \n",
       "75%        45.000000  \n",
       "max        99.000000  "
      ]
     },
     "execution_count": 13,
     "metadata": {},
     "output_type": "execute_result"
    }
   ],
   "source": [
    "base_census.describe()"
   ]
  },
  {
   "cell_type": "code",
   "execution_count": 14,
   "metadata": {},
   "outputs": [
    {
     "data": {
      "text/plain": [
       "age               0\n",
       "workclass         0\n",
       "final-weight      0\n",
       "education         0\n",
       "education-num     0\n",
       "marital-status    0\n",
       "occupation        0\n",
       "relationship      0\n",
       "race              0\n",
       "sex               0\n",
       "capital-gain      0\n",
       "capital-loos      0\n",
       "hour-per-week     0\n",
       "native-country    0\n",
       "income            0\n",
       "dtype: int64"
      ]
     },
     "execution_count": 14,
     "metadata": {},
     "output_type": "execute_result"
    }
   ],
   "source": [
    "base_census.isnull().sum()"
   ]
  },
  {
   "cell_type": "code",
   "execution_count": 15,
   "metadata": {},
   "outputs": [
    {
     "data": {
      "text/plain": [
       "(array([  219.,   333.,  1160.,   933.,  1608., 10501.,  8673.,  1067.,\n",
       "         7078.,   989.]),\n",
       " array([ 1. ,  2.5,  4. ,  5.5,  7. ,  8.5, 10. , 11.5, 13. , 14.5, 16. ]),\n",
       " <a list of 10 Patch objects>)"
      ]
     },
     "execution_count": 15,
     "metadata": {},
     "output_type": "execute_result"
    },
    {
     "data": {
      "image/png": "[encoded data removed]",
      "text/plain": [
       "<Figure size 432x288 with 1 Axes>"
      ]
     },
     "metadata": {
      "needs_background": "light"
     },
     "output_type": "display_data"
    }
   ],
   "source": [
    "plt.hist(x= base_census['education-num'])"
   ]
  },
  {
   "cell_type": "code",
   "execution_count": 16,
   "metadata": {},
   "outputs": [
    {
     "data": {
      "text/plain": [
       "array([[39, ' State-gov', 77516, ..., 0, 40, ' United-States'],\n",
       "       [50, ' Self-emp-not-inc', 83311, ..., 0, 13, ' United-States'],\n",
       "       [38, ' Private', 215646, ..., 0, 40, ' United-States'],\n",
       "       ...,\n",
       "       [58, ' Private', 151910, ..., 0, 40, ' United-States'],\n",
       "       [22, ' Private', 201490, ..., 0, 20, ' United-States'],\n",
       "       [52, ' Self-emp-inc', 287927, ..., 0, 40, ' United-States']],\n",
       "      dtype=object)"
      ]
     },
     "execution_count": 16,
     "metadata": {},
     "output_type": "execute_result"
    }
   ],
   "source": [
    "#variável para os atributos previsores \n",
    "x_census= base_census.iloc[:, 0:14].values\n",
    "x_census"
   ]
  },
  {
   "cell_type": "code",
   "execution_count": 17,
   "metadata": {},
   "outputs": [
    {
     "data": {
      "text/plain": [
       "array([' <=50K', ' <=50K', ' <=50K', ..., ' <=50K', ' <=50K', ' >50K'],\n",
       "      dtype=object)"
      ]
     },
     "execution_count": 17,
     "metadata": {},
     "output_type": "execute_result"
    }
   ],
   "source": [
    "#variável para os atributos de classe\n",
    "y_census= base_census.iloc[:, 14].values\n",
    "y_census"
   ]
  },
  {
   "cell_type": "markdown",
   "metadata": {},
   "source": [
    "# LabelEncoder\n",
    "-tratamento dos atributos categóricos -> há dois tipos, LabelEncoder e OneHotEncoder\n",
    "\n"
   ]
  },
  {
   "cell_type": "code",
   "execution_count": 18,
   "metadata": {},
   "outputs": [],
   "source": [
    "\n",
    "from sklearn.preprocessing import LabelEncoder\n",
    "\n",
    "#transforma a string em números\n",
    "\n",
    "label_encoder_workclass= LabelEncoder()\n",
    "label_encoder_education= LabelEncoder()\n",
    "label_encoder_marital= LabelEncoder()\n",
    "label_encoder_occupation= LabelEncoder()\n",
    "label_encoder_relationship= LabelEncoder()\n",
    "label_encoder_race= LabelEncoder()\n",
    "label_encoder_sex= LabelEncoder()\n",
    "label_encoder_country= LabelEncoder()\n",
    "\n",
    "x_census[:,1]= label_encoder_workclass.fit_transform(x_census[:,1])\n",
    "x_census[:,3]= label_encoder_education.fit_transform(x_census[:,3])\n",
    "x_census[:,5]= label_encoder_marital.fit_transform(x_census[:,5])\n",
    "x_census[:,6]= label_encoder_occupation.fit_transform(x_census[:,6])\n",
    "x_census[:,7]= label_encoder_relationship.fit_transform(x_census[:,7])\n",
    "x_census[:,8]= label_encoder_race.fit_transform(x_census[:,8])\n",
    "x_census[:,9]= label_encoder_sex.fit_transform(x_census[:,9])\n",
    "x_census[:,13]= label_encoder_country.fit_transform(x_census[:,13])"
   ]
  },
  {
   "cell_type": "code",
   "execution_count": 19,
   "metadata": {},
   "outputs": [
    {
     "data": {
      "text/plain": [
       "array([[39, 7, 77516, ..., 0, 40, 39],\n",
       "       [50, 6, 83311, ..., 0, 13, 39],\n",
       "       [38, 4, 215646, ..., 0, 40, 39],\n",
       "       ...,\n",
       "       [58, 4, 151910, ..., 0, 40, 39],\n",
       "       [22, 4, 201490, ..., 0, 20, 39],\n",
       "       [52, 5, 287927, ..., 0, 40, 39]], dtype=object)"
      ]
     },
     "execution_count": 19,
     "metadata": {},
     "output_type": "execute_result"
    }
   ],
   "source": [
    "x_census"
   ]
  },
  {
   "cell_type": "code",
   "execution_count": 20,
   "metadata": {},
   "outputs": [
    {
     "name": "stderr",
     "output_type": "stream",
     "text": [
      "C:\\Users\\User\\Anaconda3\\lib\\site-packages\\sklearn\\preprocessing\\_encoders.py:415: FutureWarning: The handling of integer data will change in version 0.22. Currently, the categories are determined based on the range [0, max(values)], while in the future they will be determined based on the unique values.\n",
      "If you want the future behaviour and silence this warning, you can specify \"categories='auto'\".\n",
      "In case you used a LabelEncoder before this OneHotEncoder to convert the categories to integers, then you can now use the OneHotEncoder directly.\n",
      "  warnings.warn(msg, FutureWarning)\n"
     ]
    },
    {
     "data": {
      "text/plain": [
       "array([[0.0000e+00, 0.0000e+00, 0.0000e+00, ..., 2.1740e+03, 0.0000e+00,\n",
       "        4.0000e+01],\n",
       "       [0.0000e+00, 0.0000e+00, 0.0000e+00, ..., 0.0000e+00, 0.0000e+00,\n",
       "        1.3000e+01],\n",
       "       [0.0000e+00, 0.0000e+00, 0.0000e+00, ..., 0.0000e+00, 0.0000e+00,\n",
       "        4.0000e+01],\n",
       "       ...,\n",
       "       [0.0000e+00, 0.0000e+00, 0.0000e+00, ..., 0.0000e+00, 0.0000e+00,\n",
       "        4.0000e+01],\n",
       "       [0.0000e+00, 0.0000e+00, 0.0000e+00, ..., 0.0000e+00, 0.0000e+00,\n",
       "        2.0000e+01],\n",
       "       [0.0000e+00, 0.0000e+00, 0.0000e+00, ..., 1.5024e+04, 0.0000e+00,\n",
       "        4.0000e+01]])"
      ]
     },
     "execution_count": 20,
     "metadata": {},
     "output_type": "execute_result"
    }
   ],
   "source": [
    "from sklearn.preprocessing import OneHotEncoder\n",
    "from sklearn.compose import ColumnTransformer\n",
    "\n",
    "onehotencoder_census= ColumnTransformer(transformers=[('OneHot', OneHotEncoder(), [1,3,5,6,7,8,9,13])], remainder='passthrough')\n",
    "\n",
    "x_census= onehotencoder_census.fit_transform(x_census).toarray()\n",
    "x_census"
   ]
  },
  {
   "cell_type": "code",
   "execution_count": 21,
   "metadata": {},
   "outputs": [
    {
     "data": {
      "text/plain": [
       "(32561, 108)"
      ]
     },
     "execution_count": 21,
     "metadata": {},
     "output_type": "execute_result"
    }
   ],
   "source": [
    "x_census.shape"
   ]
  },
  {
   "cell_type": "code",
   "execution_count": 22,
   "metadata": {
    "scrolled": true
   },
   "outputs": [
    {
     "data": {
      "text/plain": [
       "array([[-0.2444502 , -0.17429511, -0.26209736, ...,  0.1484529 ,\n",
       "        -0.21665953, -0.03542945],\n",
       "       [-0.2444502 , -0.17429511, -0.26209736, ..., -0.14592048,\n",
       "        -0.21665953, -2.22215312],\n",
       "       [-0.2444502 , -0.17429511, -0.26209736, ..., -0.14592048,\n",
       "        -0.21665953, -0.03542945],\n",
       "       ...,\n",
       "       [-0.2444502 , -0.17429511, -0.26209736, ..., -0.14592048,\n",
       "        -0.21665953, -0.03542945],\n",
       "       [-0.2444502 , -0.17429511, -0.26209736, ..., -0.14592048,\n",
       "        -0.21665953, -1.65522476],\n",
       "       [-0.2444502 , -0.17429511, -0.26209736, ...,  1.88842434,\n",
       "        -0.21665953, -0.03542945]])"
      ]
     },
     "execution_count": 22,
     "metadata": {},
     "output_type": "execute_result"
    }
   ],
   "source": [
    "#Escalonamento dos valores -> deixar todos os atributos na mesma escala\n",
    "\n",
    "from sklearn.preprocessing import StandardScaler\n",
    "scaler_census= StandardScaler()\n",
    "\n",
    "x_census= scaler_census.fit_transform(x_census)\n",
    "x_census\n"
   ]
  },
  {
   "cell_type": "markdown",
   "metadata": {},
   "source": [
    "# Introdução a avaliação de algoritmos \n",
    "(avaliar se o desempenho é bom ou ruim). Vai construir uma árvore e analisar o conjunto, criando uma tabela de probabilidade. Como saber se o cliente é do risco alto? usar a base de dados de teste e treinamento (precisam ser obrigatoriamente diferentes)\n"
   ]
  },
  {
   "cell_type": "code",
   "execution_count": 23,
   "metadata": {},
   "outputs": [],
   "source": [
    "#Base de treinamento e teste\n",
    "\n",
    "#Base de crédito\n",
    "from sklearn.model_selection import train_test_split\n",
    "\n",
    "x_credit_treinamento, x_credit_teste, y_credit_treinamento, y_credit_teste = train_test_split(x_credit, y_credit, test_size=0.25, random_state=0)\n"
   ]
  },
  {
   "cell_type": "code",
   "execution_count": 24,
   "metadata": {},
   "outputs": [
    {
     "data": {
      "text/plain": [
       "(1500, 3)"
      ]
     },
     "execution_count": 24,
     "metadata": {},
     "output_type": "execute_result"
    }
   ],
   "source": [
    "x_credit_treinamento.shape\n"
   ]
  },
  {
   "cell_type": "code",
   "execution_count": 25,
   "metadata": {},
   "outputs": [
    {
     "data": {
      "text/plain": [
       "(1500,)"
      ]
     },
     "execution_count": 25,
     "metadata": {},
     "output_type": "execute_result"
    }
   ],
   "source": [
    "y_credit_treinamento.shape"
   ]
  },
  {
   "cell_type": "code",
   "execution_count": 26,
   "metadata": {},
   "outputs": [
    {
     "data": {
      "text/plain": [
       "((500, 3), (500,))"
      ]
     },
     "execution_count": 26,
     "metadata": {},
     "output_type": "execute_result"
    }
   ],
   "source": [
    "x_credit_teste.shape, y_credit_teste.shape"
   ]
  },
  {
   "cell_type": "code",
   "execution_count": 27,
   "metadata": {},
   "outputs": [],
   "source": [
    "#census\n",
    "\n",
    "x_census_treinamento, x_census_teste, y_census_treinamento, y_census_teste = train_test_split(x_census, y_census, test_size=0.15, random_state=0)\n",
    "#usa 15% dos dados"
   ]
  },
  {
   "cell_type": "code",
   "execution_count": 28,
   "metadata": {},
   "outputs": [
    {
     "data": {
      "text/plain": [
       "((27676, 108), (27676,))"
      ]
     },
     "execution_count": 28,
     "metadata": {},
     "output_type": "execute_result"
    }
   ],
   "source": [
    "x_census_treinamento.shape, y_census_treinamento.shape"
   ]
  },
  {
   "cell_type": "code",
   "execution_count": 29,
   "metadata": {},
   "outputs": [
    {
     "data": {
      "text/plain": [
       "((4885, 108), (4885,))"
      ]
     },
     "execution_count": 29,
     "metadata": {},
     "output_type": "execute_result"
    }
   ],
   "source": [
    "x_census_teste.shape, y_census_teste.shape"
   ]
  },
  {
   "cell_type": "code",
   "execution_count": 30,
   "metadata": {},
   "outputs": [],
   "source": [
    "#Salvar as variáveis\n",
    "\n",
    "import pickle"
   ]
  },
  {
   "cell_type": "code",
   "execution_count": 31,
   "metadata": {},
   "outputs": [],
   "source": [
    "with open('credit.pkl', mode = 'wb') as f:\n",
    "    pickle.dump([x_credit_treinamento, y_credit_treinamento, x_credit_teste, y_credit_teste],f)"
   ]
  },
  {
   "cell_type": "code",
   "execution_count": 32,
   "metadata": {},
   "outputs": [],
   "source": [
    "with open('census.pkl', mode = 'wb') as f:\n",
    "    pickle.dump([x_census_treinamento, y_census_treinamento, x_census_teste, y_census_teste],f)"
   ]
  },
  {
   "cell_type": "markdown",
   "metadata": {},
   "source": [
    "# Módulo aprendizagem bayesiana \n",
    "\n",
    "-Algoritmo Naive Bayes (usado para mineração de textos)\n",
    "\n",
    "-Naive bayes com scikit-lerand\n",
    "\n",
    "-Naive bayes (baseado totalmente em probabilidade)\n",
    "\n",
    "-Analisar uma base de dados histórica e submeter os dados ao sistema, que gera uma tabela de probabilidade\n",
    "\n",
    "-Faz uma análise da quantidade das classes e atributos que se repetem (na forma de fração e anlisando as intercções)\n",
    "\n",
    "-Trabalha com a estimativa de cada atribuição\n",
    "\n",
    "## Correção laplaciana\n",
    "\n",
    "-Para de dados menores, a multiplicação pode resultar em 0. Nesse casos devemos adicionar mais registros\n",
    "\n",
    "## Mais alguns conceitos\n",
    "\n",
    "-Prabibilidade apriori: feita a partir de dados já existentes\n",
    "\n",
    "-Probabilidade posteori: estimativas feitas para o futuro a partir dos dados existentes\n",
    "\n",
    "-Vantagens\n",
    "\n",
    "    -Rápido\n",
    "    -Simplicidade de interpretação\n",
    "    -Trabalha com altas dimensões\n",
    "    -Boas previsões em bases pequenas\n",
    "    \n",
    "-Desvantagens\n",
    "\n",
    "    -Combinação de características são independentes (nem sempre é verdade)\n"
   ]
  },
  {
   "cell_type": "code",
   "execution_count": 33,
   "metadata": {},
   "outputs": [],
   "source": [
    "base_risco_credito= pd.read_csv(\"C:\\\\Users\\\\User\\\\risco_credito.csv\")"
   ]
  },
  {
   "cell_type": "code",
   "execution_count": 34,
   "metadata": {},
   "outputs": [
    {
     "data": {
      "text/html": [
       "<div>\n",
       "<style scoped>\n",
       "    .dataframe tbody tr th:only-of-type {\n",
       "        vertical-align: middle;\n",
       "    }\n",
       "\n",
       "    .dataframe tbody tr th {\n",
       "        vertical-align: top;\n",
       "    }\n",
       "\n",
       "    .dataframe thead th {\n",
       "        text-align: right;\n",
       "    }\n",
       "</style>\n",
       "<table border=\"1\" class=\"dataframe\">\n",
       "  <thead>\n",
       "    <tr style=\"text-align: right;\">\n",
       "      <th></th>\n",
       "      <th>historia</th>\n",
       "      <th>divida</th>\n",
       "      <th>garantias</th>\n",
       "      <th>renda</th>\n",
       "      <th>c#risco</th>\n",
       "    </tr>\n",
       "  </thead>\n",
       "  <tbody>\n",
       "    <tr>\n",
       "      <th>0</th>\n",
       "      <td>ruim</td>\n",
       "      <td>alta</td>\n",
       "      <td>nenhuma</td>\n",
       "      <td>0_15</td>\n",
       "      <td>alto</td>\n",
       "    </tr>\n",
       "    <tr>\n",
       "      <th>1</th>\n",
       "      <td>desconhecida</td>\n",
       "      <td>alta</td>\n",
       "      <td>nenhuma</td>\n",
       "      <td>15_35</td>\n",
       "      <td>alto</td>\n",
       "    </tr>\n",
       "    <tr>\n",
       "      <th>2</th>\n",
       "      <td>desconhecida</td>\n",
       "      <td>baixa</td>\n",
       "      <td>nenhuma</td>\n",
       "      <td>15_35</td>\n",
       "      <td>moderado</td>\n",
       "    </tr>\n",
       "    <tr>\n",
       "      <th>3</th>\n",
       "      <td>desconhecida</td>\n",
       "      <td>baixa</td>\n",
       "      <td>nenhuma</td>\n",
       "      <td>acima_35</td>\n",
       "      <td>alto</td>\n",
       "    </tr>\n",
       "    <tr>\n",
       "      <th>4</th>\n",
       "      <td>desconhecida</td>\n",
       "      <td>baixa</td>\n",
       "      <td>nenhuma</td>\n",
       "      <td>acima_35</td>\n",
       "      <td>baixo</td>\n",
       "    </tr>\n",
       "    <tr>\n",
       "      <th>5</th>\n",
       "      <td>desconhecida</td>\n",
       "      <td>baixa</td>\n",
       "      <td>adequada</td>\n",
       "      <td>acima_35</td>\n",
       "      <td>baixo</td>\n",
       "    </tr>\n",
       "    <tr>\n",
       "      <th>6</th>\n",
       "      <td>ruim</td>\n",
       "      <td>baixa</td>\n",
       "      <td>nenhuma</td>\n",
       "      <td>0_15</td>\n",
       "      <td>alto</td>\n",
       "    </tr>\n",
       "    <tr>\n",
       "      <th>7</th>\n",
       "      <td>ruim</td>\n",
       "      <td>baixa</td>\n",
       "      <td>adequada</td>\n",
       "      <td>acima_35</td>\n",
       "      <td>moderado</td>\n",
       "    </tr>\n",
       "    <tr>\n",
       "      <th>8</th>\n",
       "      <td>boa</td>\n",
       "      <td>baixa</td>\n",
       "      <td>nenhuma</td>\n",
       "      <td>acima_35</td>\n",
       "      <td>baixo</td>\n",
       "    </tr>\n",
       "    <tr>\n",
       "      <th>9</th>\n",
       "      <td>boa</td>\n",
       "      <td>alta</td>\n",
       "      <td>adequada</td>\n",
       "      <td>acima_35</td>\n",
       "      <td>baixo</td>\n",
       "    </tr>\n",
       "    <tr>\n",
       "      <th>10</th>\n",
       "      <td>boa</td>\n",
       "      <td>alta</td>\n",
       "      <td>nenhuma</td>\n",
       "      <td>0_15</td>\n",
       "      <td>alto</td>\n",
       "    </tr>\n",
       "    <tr>\n",
       "      <th>11</th>\n",
       "      <td>boa</td>\n",
       "      <td>alta</td>\n",
       "      <td>nenhuma</td>\n",
       "      <td>15_35</td>\n",
       "      <td>moderado</td>\n",
       "    </tr>\n",
       "    <tr>\n",
       "      <th>12</th>\n",
       "      <td>boa</td>\n",
       "      <td>alta</td>\n",
       "      <td>nenhuma</td>\n",
       "      <td>acima_35</td>\n",
       "      <td>baixo</td>\n",
       "    </tr>\n",
       "    <tr>\n",
       "      <th>13</th>\n",
       "      <td>ruim</td>\n",
       "      <td>alta</td>\n",
       "      <td>nenhuma</td>\n",
       "      <td>15_35</td>\n",
       "      <td>alto</td>\n",
       "    </tr>\n",
       "  </tbody>\n",
       "</table>\n",
       "</div>"
      ],
      "text/plain": [
       "        historia divida garantias     renda   c#risco\n",
       "0           ruim   alta   nenhuma      0_15      alto\n",
       "1   desconhecida   alta   nenhuma     15_35      alto\n",
       "2   desconhecida  baixa   nenhuma     15_35  moderado\n",
       "3   desconhecida  baixa   nenhuma  acima_35      alto\n",
       "4   desconhecida  baixa   nenhuma  acima_35     baixo\n",
       "5   desconhecida  baixa  adequada  acima_35     baixo\n",
       "6           ruim  baixa   nenhuma      0_15      alto\n",
       "7           ruim  baixa  adequada  acima_35  moderado\n",
       "8            boa  baixa   nenhuma  acima_35     baixo\n",
       "9            boa   alta  adequada  acima_35     baixo\n",
       "10           boa   alta   nenhuma      0_15      alto\n",
       "11           boa   alta   nenhuma     15_35  moderado\n",
       "12           boa   alta   nenhuma  acima_35     baixo\n",
       "13          ruim   alta   nenhuma     15_35      alto"
      ]
     },
     "execution_count": 34,
     "metadata": {},
     "output_type": "execute_result"
    }
   ],
   "source": [
    "base_risco_credito"
   ]
  },
  {
   "cell_type": "code",
   "execution_count": 35,
   "metadata": {},
   "outputs": [
    {
     "data": {
      "text/plain": [
       "array([['ruim', 'alta', 'nenhuma', '0_15'],\n",
       "       ['desconhecida', 'alta', 'nenhuma', '15_35'],\n",
       "       ['desconhecida', 'baixa', 'nenhuma', '15_35'],\n",
       "       ['desconhecida', 'baixa', 'nenhuma', 'acima_35'],\n",
       "       ['desconhecida', 'baixa', 'nenhuma', 'acima_35'],\n",
       "       ['desconhecida', 'baixa', 'adequada', 'acima_35'],\n",
       "       ['ruim', 'baixa', 'nenhuma', '0_15'],\n",
       "       ['ruim', 'baixa', 'adequada', 'acima_35'],\n",
       "       ['boa', 'baixa', 'nenhuma', 'acima_35'],\n",
       "       ['boa', 'alta', 'adequada', 'acima_35'],\n",
       "       ['boa', 'alta', 'nenhuma', '0_15'],\n",
       "       ['boa', 'alta', 'nenhuma', '15_35'],\n",
       "       ['boa', 'alta', 'nenhuma', 'acima_35'],\n",
       "       ['ruim', 'alta', 'nenhuma', '15_35']], dtype=object)"
      ]
     },
     "execution_count": 35,
     "metadata": {},
     "output_type": "execute_result"
    }
   ],
   "source": [
    "#previsores\n",
    "x_risco_credito= base_risco_credito.iloc [:, 0:4].values\n",
    "x_risco_credito"
   ]
  },
  {
   "cell_type": "code",
   "execution_count": 36,
   "metadata": {},
   "outputs": [
    {
     "data": {
      "text/plain": [
       "array(['alto', 'alto', 'moderado', 'alto', 'baixo', 'baixo', 'alto',\n",
       "       'moderado', 'baixo', 'baixo', 'alto', 'moderado', 'baixo', 'alto'],\n",
       "      dtype=object)"
      ]
     },
     "execution_count": 36,
     "metadata": {},
     "output_type": "execute_result"
    }
   ],
   "source": [
    "#classe\n",
    "y_risco_credito= base_risco_credito.iloc [:, 4].values\n",
    "y_risco_credito"
   ]
  },
  {
   "cell_type": "code",
   "execution_count": 37,
   "metadata": {},
   "outputs": [],
   "source": [
    "from sklearn.preprocessing import LabelEncoder"
   ]
  },
  {
   "cell_type": "code",
   "execution_count": 38,
   "metadata": {},
   "outputs": [],
   "source": [
    "from sklearn.naive_bayes import GaussianNB"
   ]
  },
  {
   "cell_type": "code",
   "execution_count": 39,
   "metadata": {},
   "outputs": [],
   "source": [
    "label_encoder_historia = LabelEncoder()\n",
    "label_encoder_divida = LabelEncoder()\n",
    "label_encoder_garantia = LabelEncoder()\n",
    "label_encoder_renda = LabelEncoder()"
   ]
  },
  {
   "cell_type": "code",
   "execution_count": 40,
   "metadata": {},
   "outputs": [],
   "source": [
    "x_risco_credito[:,0] = label_encoder_historia.fit_transform(x_risco_credito[:,0])\n",
    "x_risco_credito[:,1] = label_encoder_divida.fit_transform(x_risco_credito[:,1])\n",
    "x_risco_credito[:,2] = label_encoder_garantia.fit_transform(x_risco_credito[:,2])\n",
    "x_risco_credito[:,3] = label_encoder_renda.fit_transform(x_risco_credito[:,3])"
   ]
  },
  {
   "cell_type": "code",
   "execution_count": 41,
   "metadata": {},
   "outputs": [
    {
     "data": {
      "text/plain": [
       "array([[2, 0, 1, 0],\n",
       "       [1, 0, 1, 1],\n",
       "       [1, 1, 1, 1],\n",
       "       [1, 1, 1, 2],\n",
       "       [1, 1, 1, 2],\n",
       "       [1, 1, 0, 2],\n",
       "       [2, 1, 1, 0],\n",
       "       [2, 1, 0, 2],\n",
       "       [0, 1, 1, 2],\n",
       "       [0, 0, 0, 2],\n",
       "       [0, 0, 1, 0],\n",
       "       [0, 0, 1, 1],\n",
       "       [0, 0, 1, 2],\n",
       "       [2, 0, 1, 1]], dtype=object)"
      ]
     },
     "execution_count": 41,
     "metadata": {},
     "output_type": "execute_result"
    }
   ],
   "source": [
    "x_risco_credito"
   ]
  },
  {
   "cell_type": "code",
   "execution_count": 42,
   "metadata": {},
   "outputs": [],
   "source": [
    "import pickle\n",
    "with open('risco_credito.pkl','wb') as f:\n",
    "    pickle.dump([x_risco_credito, y_risco_credito],f)"
   ]
  },
  {
   "cell_type": "code",
   "execution_count": 43,
   "metadata": {},
   "outputs": [
    {
     "data": {
      "text/plain": [
       "GaussianNB(priors=None, var_smoothing=1e-09)"
      ]
     },
     "execution_count": 43,
     "metadata": {},
     "output_type": "execute_result"
    }
   ],
   "source": [
    "naive_risco_credito = GaussianNB()\n",
    "#Vai gerar a tabela de probabilidade, passando os atributos previsores e as classes\n",
    "naive_risco_credito.fit (x_risco_credito, y_risco_credito)\n"
   ]
  },
  {
   "cell_type": "code",
   "execution_count": 44,
   "metadata": {},
   "outputs": [],
   "source": [
    "#obter previsão de um cliente novo (não se sabe qual classe está)\n",
    "# história boa (0), dívida alta (0), garantias nenhuma (1), renda > 35 (2)\n",
    "# história ruim (2), dívida alta (0), garantias adequada (0), renda < 15 (0)\n",
    "previsao = naive_risco_credito.predict([[0,0,1,2], [2,0,0,0]])"
   ]
  },
  {
   "cell_type": "code",
   "execution_count": 45,
   "metadata": {},
   "outputs": [
    {
     "data": {
      "text/plain": [
       "array(['baixo', 'moderado'], dtype='<U8')"
      ]
     },
     "execution_count": 45,
     "metadata": {},
     "output_type": "execute_result"
    }
   ],
   "source": [
    "previsao"
   ]
  },
  {
   "cell_type": "code",
   "execution_count": 46,
   "metadata": {},
   "outputs": [
    {
     "data": {
      "text/plain": [
       "array(['alto', 'baixo', 'moderado'], dtype='<U8')"
      ]
     },
     "execution_count": 46,
     "metadata": {},
     "output_type": "execute_result"
    }
   ],
   "source": [
    "naive_risco_credito.classes_"
   ]
  },
  {
   "cell_type": "code",
   "execution_count": 47,
   "metadata": {},
   "outputs": [
    {
     "data": {
      "text/plain": [
       "array([0.42857143, 0.35714286, 0.21428571])"
      ]
     },
     "execution_count": 47,
     "metadata": {},
     "output_type": "execute_result"
    }
   ],
   "source": [
    "naive_risco_credito.class_prior_"
   ]
  },
  {
   "cell_type": "code",
   "execution_count": 48,
   "metadata": {},
   "outputs": [],
   "source": [
    "credit= \"credit.pkl\"\n",
    "df= base_credit\n",
    "df.to_pickle(credit)"
   ]
  },
  {
   "cell_type": "code",
   "execution_count": 49,
   "metadata": {},
   "outputs": [
    {
     "ename": "ValueError",
     "evalue": "too many values to unpack (expected 4)",
     "output_type": "error",
     "traceback": [
      "\u001b[1;31m---------------------------------------------------------------------------\u001b[0m",
      "\u001b[1;31mValueError\u001b[0m                                Traceback (most recent call last)",
      "\u001b[1;32m<ipython-input-49-300d39ee5683>\u001b[0m in \u001b[0;36m<module>\u001b[1;34m\u001b[0m\n\u001b[0;32m      1\u001b[0m \u001b[1;32mimport\u001b[0m \u001b[0mpickle\u001b[0m\u001b[1;33m\u001b[0m\u001b[1;33m\u001b[0m\u001b[0m\n\u001b[0;32m      2\u001b[0m \u001b[1;32mwith\u001b[0m \u001b[0mopen\u001b[0m\u001b[1;33m(\u001b[0m\u001b[1;34m'credit.pkl'\u001b[0m\u001b[1;33m,\u001b[0m \u001b[1;34m'rb'\u001b[0m\u001b[1;33m)\u001b[0m \u001b[1;32mas\u001b[0m \u001b[0mf\u001b[0m\u001b[1;33m:\u001b[0m\u001b[1;33m\u001b[0m\u001b[1;33m\u001b[0m\u001b[0m\n\u001b[1;32m----> 3\u001b[1;33m   \u001b[0mX_credit_treinamento\u001b[0m\u001b[1;33m,\u001b[0m \u001b[0my_credit_treinamento\u001b[0m\u001b[1;33m,\u001b[0m \u001b[0mX_credit_teste\u001b[0m\u001b[1;33m,\u001b[0m \u001b[0my_credit_teste\u001b[0m \u001b[1;33m=\u001b[0m \u001b[0mpickle\u001b[0m\u001b[1;33m.\u001b[0m\u001b[0mload\u001b[0m\u001b[1;33m(\u001b[0m\u001b[0mf\u001b[0m\u001b[1;33m)\u001b[0m\u001b[1;33m\u001b[0m\u001b[1;33m\u001b[0m\u001b[0m\n\u001b[0m",
      "\u001b[1;31mValueError\u001b[0m: too many values to unpack (expected 4)"
     ]
    }
   ],
   "source": [
    "import pickle\n",
    "with open('credit.pkl', 'rb') as f:\n",
    "  X_credit_treinamento, y_credit_treinamento, X_credit_teste, y_credit_teste = pickle.load(f)"
   ]
  },
  {
   "cell_type": "code",
   "execution_count": null,
   "metadata": {},
   "outputs": [],
   "source": [
    "X_credit_treinamento.shape, y_credit_treinamento.shape"
   ]
  },
  {
   "cell_type": "code",
   "execution_count": null,
   "metadata": {},
   "outputs": [],
   "source": [
    "X_credit_teste.shape, y_credit_teste.shape"
   ]
  },
  {
   "cell_type": "raw",
   "metadata": {},
   "source": [
    "Como o tratamento da base de crédito foi feito em outro arquivo, nesse há alguns valores NaN, impossibilitando as operações. Tentar posteriormente."
   ]
  },
  {
   "cell_type": "code",
   "execution_count": null,
   "metadata": {},
   "outputs": [],
   "source": [
    "naive_credit_data = GaussianNB()\n",
    "naive_credit_data.fit (X_credit_treinamento, y_credit_treinamento)"
   ]
  },
  {
   "cell_type": "code",
   "execution_count": null,
   "metadata": {},
   "outputs": [],
   "source": [
    "import pickle \n",
    "with open('census.pkl', 'rb') as f:\n",
    "  X_census_treinamento, y_census_treinamento, X_census_teste, y_census_teste = pickle.load(f)"
   ]
  },
  {
   "cell_type": "code",
   "execution_count": null,
   "metadata": {},
   "outputs": [],
   "source": [
    "X_census_treinamento.shape, y_census_treinamento.shape"
   ]
  },
  {
   "cell_type": "code",
   "execution_count": null,
   "metadata": {},
   "outputs": [],
   "source": [
    "X_census_teste.shape, y_census_teste.shape"
   ]
  },
  {
   "cell_type": "code",
   "execution_count": null,
   "metadata": {},
   "outputs": [],
   "source": [
    "from sklearn.naive_bayes import GaussianNB"
   ]
  },
  {
   "cell_type": "code",
   "execution_count": null,
   "metadata": {},
   "outputs": [],
   "source": [
    "naive_census = GaussianNB()\n",
    "naive_census.fit(X_census_treinamento, y_census_treinamento)\n",
    "previsoes = naive_census.predict(X_census_teste)\n",
    "previsoes"
   ]
  },
  {
   "cell_type": "code",
   "execution_count": null,
   "metadata": {},
   "outputs": [],
   "source": [
    "y_census_teste"
   ]
  },
  {
   "cell_type": "code",
   "execution_count": null,
   "metadata": {},
   "outputs": [],
   "source": [
    "from sklearn.metrics import accuracy_score, confusion_matrix, classification_report\n",
    "accuracy_score(y_census_teste, previsoes)"
   ]
  },
  {
   "cell_type": "code",
   "execution_count": null,
   "metadata": {},
   "outputs": [],
   "source": [
    "!pip install yellowbrick\n",
    "from yellowbrick.classifier import ConfusionMatrix"
   ]
  },
  {
   "cell_type": "code",
   "execution_count": null,
   "metadata": {},
   "outputs": [],
   "source": [
    "cm = ConfusionMatrix(naive_census)\n",
    "cm.fit(X_census_treinamento, y_census_treinamento)\n",
    "cm.score(X_census_teste, y_census_teste)"
   ]
  },
  {
   "cell_type": "markdown",
   "metadata": {},
   "source": [
    "# Introdução Python"
   ]
  },
  {
   "cell_type": "code",
   "execution_count": null,
   "metadata": {},
   "outputs": [],
   "source": [
    "a=int(input())\n",
    "b=int(input())"
   ]
  },
  {
   "cell_type": "code",
   "execution_count": null,
   "metadata": {},
   "outputs": [],
   "source": [
    "print(a,b)\n"
   ]
  },
  {
   "cell_type": "code",
   "execution_count": null,
   "metadata": {},
   "outputs": [],
   "source": [
    "print('adição', a+b)\n",
    "print('sub', a-b)\n",
    "print('mult', a*b)\n",
    "print('divisão', a/b)\n",
    "print(f'O valor de a é {a} e o valor de b é {b}')"
   ]
  },
  {
   "cell_type": "code",
   "execution_count": null,
   "metadata": {},
   "outputs": [],
   "source": [
    "idade= int(input('Digite a idade: '))\n",
    "\n",
    "if idade >=0 and idade <= 12:\n",
    "    print('Criança')\n",
    "    \n",
    "elif idade >12 and idade <=18:\n",
    "    print('Adolescente')\n",
    "\n",
    "elif idade>18:\n",
    "    print('Adulto')\n",
    "else:\n",
    "    print('Idade inválida')"
   ]
  },
  {
   "cell_type": "code",
   "execution_count": null,
   "metadata": {},
   "outputs": [],
   "source": [
    "#Tuplas\n",
    "tupla=('Homo sapiens', 'Canis familiaris','Felis catus')\n",
    "\n",
    "tupla[0]"
   ]
  },
  {
   "cell_type": "code",
   "execution_count": null,
   "metadata": {},
   "outputs": [],
   "source": [
    "#Lista\n",
    "l1= ['Homo sapiens', 'Canis familiaris','Felis catus']\n",
    "del(l1) #apaga a lista"
   ]
  },
  {
   "cell_type": "code",
   "execution_count": null,
   "metadata": {},
   "outputs": [],
   "source": [
    "#Dicionários\n",
    "coleta= {'Aedes aegypy': 32, 'Aedes albopictus': 22, 'Anopheles darlingi': 14}\n",
    "print(coleta)"
   ]
  },
  {
   "cell_type": "code",
   "execution_count": null,
   "metadata": {},
   "outputs": [],
   "source": [
    "#Conjuntos\n",
    "biomoleculas = ('proteína', 'ácidos nucleicos', 'carboidrato', 'lipídeo',\n",
    "                'ácidos nucleicos', 'carboidrato', 'carboidrato', 'carboidrato')\n",
    "print (set(biomoleculas)) #mostra os itens que não se repete"
   ]
  },
  {
   "cell_type": "code",
   "execution_count": null,
   "metadata": {},
   "outputs": [],
   "source": [
    "c1 = {1,2,3,4,5}\n",
    "c2 = {3,4,5,6,7}\n",
    "c3 = c1.intersection(c2)\n",
    "\n",
    "print (c3)"
   ]
  },
  {
   "cell_type": "code",
   "execution_count": null,
   "metadata": {},
   "outputs": [],
   "source": [
    "#Matrizes\n",
    "\n",
    "import numpy as np\n",
    "matriz = np.array([[2, 3, 1], \n",
    "                   [4, 5, 7]])"
   ]
  },
  {
   "cell_type": "code",
   "execution_count": null,
   "metadata": {},
   "outputs": [],
   "source": [
    "for i in range(matriz.shape[0]):\n",
    "    print(matriz[i])\n",
    "    for j in range (matriz.shape[1]):\n",
    "        print(matriz[i][j])"
   ]
  },
  {
   "cell_type": "code",
   "execution_count": null,
   "metadata": {},
   "outputs": [],
   "source": [
    "lista = []\n",
    "for i in range (1,6):\n",
    "    num= int(input())\n",
    "    lista.append(num)\n",
    "    i+=i\n",
    "    \n",
    "print('A lista é: ',lista)"
   ]
  },
  {
   "cell_type": "code",
   "execution_count": null,
   "metadata": {},
   "outputs": [],
   "source": [
    "dic= {}\n",
    "\n",
    "for i in range(1,4):\n",
    "    nome = input('Digite o nome do aluno ')\n",
    "    nota = float(input('Digite a nota do aluno '))\n",
    "    dic[nome] = nota\n",
    "    i+=i\n",
    "\n",
    "soma = 0\n",
    "\n",
    "for nota in dic.values():\n",
    "    soma+=nota\n",
    "    \n",
    "print('Média =',soma/3)\n"
   ]
  },
  {
   "cell_type": "code",
   "execution_count": null,
   "metadata": {},
   "outputs": [],
   "source": [
    "def ler_string(mensagem):\n",
    "    return input(mensagem)\n",
    "\n",
    "def ler_float(mensagem):\n",
    "    return float(input(mensagem))\n",
    "\n",
    "texto= ler_string('Digite a mensagem: ')\n"
   ]
  },
  {
   "cell_type": "code",
   "execution_count": null,
   "metadata": {},
   "outputs": [],
   "source": [
    "class aluno:\n",
    "    def __init__(self, nome, nota1, nota2):\n",
    "        self.nome= nome\n",
    "        self.nota1= nota1\n",
    "        self.nota2= nota2\n",
    "        self.media= 0.0\n",
    "        \n",
    "    def calcula_media(self): \n",
    "        self.media= (self.nota1+ self.nota2)/2\n",
    "        return self.media\n",
    "    \n",
    "    def mostra_dados(self):\n",
    "        print('Nome: ', self.nome)\n",
    "        print('Nota 1: ', self.nota1)\n",
    "        print('Nota 2: ', self.nota2)\n",
    "        print('Media: ', self.media)\n",
    "        \n",
    "    def resultado(self):\n",
    "        if self.media >= 6.0:\n",
    "            print('Aprovado')\n",
    "        else:\n",
    "            print('Reprovado')\n",
    "        \n",
    "        \n",
    "    \n",
    "aluno1= aluno('Beth', 6,9)\n",
    "aluno1.calcula_media()\n",
    "aluno1.mostra_dados()\n",
    "aluno1.resultado()\n",
    "       "
   ]
  },
  {
   "cell_type": "markdown",
   "metadata": {},
   "source": [
    "# Aprendizagem por árvores de decisão \n",
    "\n",
    "-Pega os atributos e percorre a árvore \n",
    "-Existe um atributo principal que é o começo da árvore \n",
    "\n",
    "### Processo de treinamento:\n",
    "\n",
    "    -Cálculo da entropia e ganho de informação\n",
    "    \n",
    "   $Entropia= \\sum_{i=1}^{c} p_i log_2 p_i $\n",
    "   \n",
    "   $Ganho(S,A)= Entropia (S) - \\sum_{Values(A)}  \\frac{S_v}{S}Entropia(S_v) $\n",
    "   \n",
    "-O ganho indica a importância do atributo (o ganhor maior será o primeiro parâmetro da árvore de decisão). Esse cálculo é feito a partir das informações obtidas pela tabela do Naive Bayes\n",
    "\n",
    "### Bias\n",
    "    erros por classficicação errada\n",
    "\n",
    "### Variância\n",
    "    Erros por sensibilidade pequena a mudanças na base de treinamento. Pode levar a overfitting.\n",
    "\n",
    "### Vantages:\n",
    "    -Fácil interpretação\n",
    "    -Não precisa normaização ou padronização\n",
    "    -Rápido para classificar novos registros\n",
    "\n",
    "### Desvantagens:\n",
    "    -Geração de ávores muito complexas\n",
    "    -Pequenas mudanças nos dados pode mudar a árvore \n",
    "    -Problema NP-completo para construir a árvore \n",
    "    \n"
   ]
  },
  {
   "cell_type": "code",
   "execution_count": null,
   "metadata": {},
   "outputs": [],
   "source": [
    "from sklearn.tree import DecisionTreeClassifier"
   ]
  },
  {
   "cell_type": "code",
   "execution_count": null,
   "metadata": {},
   "outputs": [],
   "source": [
    "import pickle\n",
    "with open('risco_credito.pkl','rb') as f:\n",
    "          X_risco_credito, y_risco_credito = pickle.load(f)\n",
    "\n",
    "X_risco_credito          "
   ]
  },
  {
   "cell_type": "code",
   "execution_count": null,
   "metadata": {},
   "outputs": [],
   "source": [
    "y_risco_credito"
   ]
  },
  {
   "cell_type": "code",
   "execution_count": null,
   "metadata": {},
   "outputs": [],
   "source": [
    "arvore_risco_credito= DecisionTreeClassifier(criterion='entropy')\n",
    "arvore_risco_credito.fit(X_risco_credito, y_risco_credito)"
   ]
  },
  {
   "cell_type": "code",
   "execution_count": null,
   "metadata": {},
   "outputs": [],
   "source": [
    "arvore_risco_credito.feature_importances_"
   ]
  },
  {
   "cell_type": "code",
   "execution_count": null,
   "metadata": {},
   "outputs": [],
   "source": [
    "arvore_risco_credito.classes_"
   ]
  },
  {
   "cell_type": "code",
   "execution_count": null,
   "metadata": {},
   "outputs": [],
   "source": [
    "from sklearn import tree\n",
    "previsores = ['história', 'dívida', 'garantias', 'renda']\n",
    "figura, eixos = plt.subplots(nrows=1, ncols=1, figsize=(10,10))\n",
    "tree.plot_tree(arvore_risco_credito, feature_names=previsores, class_names = arvore_risco_credito.classes_, filled=True);"
   ]
  },
  {
   "cell_type": "code",
   "execution_count": null,
   "metadata": {},
   "outputs": [],
   "source": [
    "previsoes= arvore_risco_credito.predict([[0,0,1,2],[2,0,0,0]])\n",
    "previsoes"
   ]
  },
  {
   "cell_type": "code",
   "execution_count": null,
   "metadata": {},
   "outputs": [],
   "source": [
    "with open('census.pkl', 'rb') as f:\n",
    "    x_census_treinamento, y_census_treinamento, x_census_teste, y_census_teste = pickle.load(f)\n",
    "\n",
    "x_census_treinamento.shape, y_census_treinamento.shape"
   ]
  },
  {
   "cell_type": "code",
   "execution_count": null,
   "metadata": {},
   "outputs": [],
   "source": [
    "arvore_census= DecisionTreeClassifier(criterion='entropy', random_state=0)\n",
    "arvore_census.fit(x_census_treinamento, y_census_treinamento)"
   ]
  },
  {
   "cell_type": "code",
   "execution_count": null,
   "metadata": {},
   "outputs": [],
   "source": [
    "previsoes= arvore_census.predict(x_census_teste)\n",
    "previsoes"
   ]
  },
  {
   "cell_type": "markdown",
   "metadata": {},
   "source": [
    "# Random Forest\n",
    "\n",
    "-Melhoria da árvore de decisão (árvores simples podem levar ao erro em situações complexas)\n",
    "\n",
    "-Várias árvores para tomar uma decisão \n",
    "\n",
    "-Usa a média (regressão) ou votos da maioria (classificação) para dar a resposta final\n",
    "-Cada árvore escolhe um atributo diferente (também podendo variar a quantidade de atributos em cada árvore)\n"
   ]
  },
  {
   "cell_type": "code",
   "execution_count": null,
   "metadata": {},
   "outputs": [],
   "source": [
    "from sklearn.ensemble import RandomForestClassifier "
   ]
  },
  {
   "cell_type": "code",
   "execution_count": null,
   "metadata": {},
   "outputs": [],
   "source": [
    "random_forest_census= RandomForestClassifier(n_estimators=40, criterion='entropy', random_state=0)\n",
    "random_forest_census.fit(x_census_treinamento, y_census_treinamento)"
   ]
  },
  {
   "cell_type": "markdown",
   "metadata": {},
   "source": [
    "# Aprendizagem por regras\n",
    "\n",
    "-Teoria sobre indução de regras: algoritmo OneR e PRISM\n",
    "\n",
    "-Árvores de decisão x regras\n",
    "\n",
    "-Regras (CN2) com orange \n",
    "\n",
    "-Classificador base (MajorityLearner)\n",
    "\n",
    "\n",
    "### Indução de regras - algoritmo OneR \n",
    "\n",
    "-R: rules\n",
    "\n",
    "-Testas coisas simples primeiro\n",
    "\n",
    "-Um atributo faz todo o trabalho\n",
    "\n",
    "-Bom principalmente para problemas simples, mais complexos existe alta taxa de erro\n",
    "\n",
    "-Software Weka para classificação\n",
    "\n",
    "-Regras são mais lentos e está em relativo desuso \n"
   ]
  },
  {
   "cell_type": "code",
   "execution_count": null,
   "metadata": {},
   "outputs": [],
   "source": [
    "import Orange"
   ]
  },
  {
   "cell_type": "code",
   "execution_count": null,
   "metadata": {},
   "outputs": [],
   "source": [
    "base_risco_credito = Orange.data.Table('risco_credito.csv')"
   ]
  },
  {
   "cell_type": "code",
   "execution_count": null,
   "metadata": {},
   "outputs": [],
   "source": [
    "base_risco_credito"
   ]
  },
  {
   "cell_type": "code",
   "execution_count": null,
   "metadata": {},
   "outputs": [],
   "source": [
    "cn2 = Orange.classification.rules.CN2Learner()\n",
    "regras_risco_credito = cn2(base_risco_credito)"
   ]
  },
  {
   "cell_type": "code",
   "execution_count": null,
   "metadata": {},
   "outputs": [],
   "source": [
    "for regras in regras_risco_credito.rule_list:\n",
    "    print(regras)"
   ]
  },
  {
   "cell_type": "code",
   "execution_count": null,
   "metadata": {},
   "outputs": [],
   "source": [
    "previsoes = regras_risco_credito([['boa', 'alta', 'nenhuma', 'acima_35'], ['ruim', 'alta', 'adequada', '0_15']])\n",
    "previsoes"
   ]
  },
  {
   "cell_type": "code",
   "execution_count": null,
   "metadata": {},
   "outputs": [],
   "source": [
    "base_risco_credito.domain.class_var.values"
   ]
  },
  {
   "cell_type": "markdown",
   "metadata": {},
   "source": [
    "# Aprendizagem baseada em instâncias \n",
    "\n",
    "-Teoria sobre o algoritmo kNN\n",
    "\n",
    "-kNN com scikit-learn\n",
    "\n",
    "-Paradigmas de aprendizagem de máquina\n",
    "\n",
    "-K-Nearest Neighbour (kNN): não gera modelo e não descarta os dados\n",
    "\n",
    "-A maioria dos métodos de aprendizagem constroem um modelo após o treinamntos (os dados são descartados após a criação do modelo)\n",
    "\n",
    "-Métodos baseados em instâncias simplesmente armazenam os exempos de treinamento\n",
    "\n",
    "-A generalização/previsão é feita somente quando uma nova instância ser classfificada (lazy)\n",
    "\n",
    "-Cálculo feito a partir da distância euclidiana \n",
    "\n",
    "$ DE(x,y) = \\sqrt(\\sum_{i}^{p} (x_i- y_i)^2 )$\n",
    "\n",
    "### Filtragem colaborativa \n",
    "    (calcula a distância entre os usuários e recomenda os filmes assistidos pelo vizinho mais próximo). Quanto menor a distância, mais próximo são os perfis.\n",
    "\n",
    "-Usar valores na mesma escala:\n",
    "\n",
    "### Normalização:\n",
    "\n",
    "$ x= \\frac {x- mínimo(x)} {máximo(x)-mínimo(x)} $\n",
    "\n",
    "### Padronização:\n",
    "\n",
    "$ x= \\frac{x -média(x)}{desvio padrão(x)} $\n",
    "\n",
    "-kNN é um algoritmo simples mas poderosos. Capaz de indicar relação quando as características são complexas\n",
    "\n",
    "-Não usar valores pequenos de k (passível de erro por \"vício\") ou valores grandes (mais de uma classificação)"
   ]
  },
  {
   "cell_type": "code",
   "execution_count": null,
   "metadata": {},
   "outputs": [],
   "source": [
    "from sklearn.neighbors import KNeighborsClassifier"
   ]
  },
  {
   "cell_type": "code",
   "execution_count": null,
   "metadata": {},
   "outputs": [],
   "source": [
    "with open('census.pkl', 'rb') as f:  \n",
    "  X_census_treinamento, y_census_treinamento, X_census_teste, y_census_teste = pickle.load(f)"
   ]
  },
  {
   "cell_type": "code",
   "execution_count": null,
   "metadata": {},
   "outputs": [],
   "source": [
    "X_census_treinamento.shape, y_census_treinamento.shape"
   ]
  },
  {
   "cell_type": "code",
   "execution_count": null,
   "metadata": {},
   "outputs": [],
   "source": [
    "knn_census = KNeighborsClassifier(n_neighbors=10)\n",
    "knn_census.fit(X_census_treinamento, y_census_treinamento)"
   ]
  },
  {
   "cell_type": "code",
   "execution_count": null,
   "metadata": {},
   "outputs": [],
   "source": [
    "previsoes = knn_census.predict(X_census_teste)\n",
    "previsoes"
   ]
  },
  {
   "cell_type": "code",
   "execution_count": null,
   "metadata": {},
   "outputs": [],
   "source": [
    "from sklearn.metrics import accuracy_score, classification_report\n",
    "accuracy_score(y_census_teste, previsoes)"
   ]
  },
  {
   "cell_type": "markdown",
   "metadata": {},
   "source": [
    "# Regressão logística\n",
    "\n",
    "-Teoria sobre regressão logística\n",
    "\n",
    "-Regressão logística com scikit-learn\n",
    "\n",
    "-Métodos preditivos (classificação- rótulos, regressão-números)\n",
    "\n",
    "-Função sigmoide, utilizado para regressão logística (melhor linha para encaixar nos dados)\n",
    "\n",
    "$ p = \\frac{1}{1+e^-y}$\n",
    "\n",
    "$ y= b_0 + b_1 *x $\n",
    "\n",
    "$ log(\\frac{p}{1-p})= b_0 + b_1 *x $\n",
    "\n",
    "-Valores entre 0 e 1\n",
    "\n"
   ]
  },
  {
   "cell_type": "markdown",
   "metadata": {},
   "source": [
    "# Máquinas de vetores de suporte (SVM)\n",
    "\n",
    "-Em geral, supera outros algoritmos de aprendizagem de máquina (precisa fazer testes para comprovar de fato)\n",
    "\n",
    "-Tarefas complexas: reconhecimento de caracteres, voz, imagens\n",
    "\n",
    "-Considerado por vários anos como o mais eficiente algoritmo (foi superado pelas redes neurais)\n",
    "\n",
    "-Aprende hiperplanos de separação com margem máxima\n",
    "\n",
    "-Vetores de suporte: reconstrução do hiperplano\n",
    "\n",
    "-Erros e custo\n",
    "\n",
    "$ 1/2 w^2 + c \\sum a_i $\n",
    "\n",
    "-c =  punição por classificação incorreta\n",
    "    -c alto= tenta 100% de separação (algoritmo mais correto)\n",
    "    -c baixo= permite mais erros\n",
    "    \n",
    "### Kernel trick\n",
    "    \n",
    "    -Transforma uma superfície não linear em linear\n",
    "\n",
    "    -Transforma de uma dimensão para outra\n",
    "    \n",
    "    -Existem vários tipos de Kernels, como lenear, gaussiano, polinomial e tangente hiperbólica. É necessário escolher o Kernel adequado para o problema.\n",
    "    \n",
    "    -Vantagens:\n",
    "        Não é muito influenciado por rúidos nos dados\n",
    "        Utiizado para classificação e regressão \n",
    "        Aprende conceitos não presentes nos dados originais\n",
    "        Mais fácil de usar do que redes neurais\n",
    "        \n",
    "     -Desvantagens:\n",
    "         Testar várias combinações de parâmetros\n",
    "         Lento\n",
    "         Black box\n",
    "        \n",
    "    "
   ]
  },
  {
   "cell_type": "code",
   "execution_count": 50,
   "metadata": {},
   "outputs": [],
   "source": [
    "from sklearn.svm import SVC"
   ]
  },
  {
   "cell_type": "code",
   "execution_count": null,
   "metadata": {},
   "outputs": [],
   "source": [
    "x_census_treinamento.shape, y_census_treinamento.shape"
   ]
  },
  {
   "cell_type": "code",
   "execution_count": null,
   "metadata": {},
   "outputs": [],
   "source": [
    "svm_census = SVC(kernel='linear', random_state=1)\n",
    "svm_census.fit(x_census_treinamento, y_census_treinamento)"
   ]
  },
  {
   "cell_type": "code",
   "execution_count": null,
   "metadata": {},
   "outputs": [],
   "source": [
    "previsoes = svm_census.predict(x_census_teste)\n",
    "previsoes"
   ]
  },
  {
   "cell_type": "code",
   "execution_count": null,
   "metadata": {},
   "outputs": [],
   "source": [
    "from sklearn.metrics import accuracy_score, classification_report\n",
    "accuracy_score(y_census_teste, previsoes)"
   ]
  },
  {
   "cell_type": "code",
   "execution_count": null,
   "metadata": {},
   "outputs": [],
   "source": [
    "from yellowbrick.classifier import ConfusionMatrix\n",
    "cm = ConfusionMatrix(svm_census)\n",
    "cm.fit(x_census_treinamento, y_census_treinamento)\n",
    "cm.score(x_census_teste, y_census_teste)"
   ]
  },
  {
   "cell_type": "code",
   "execution_count": null,
   "metadata": {},
   "outputs": [],
   "source": [
    "print(classification_report(y_census_teste, previsoes))"
   ]
  },
  {
   "cell_type": "markdown",
   "metadata": {},
   "source": [
    "# Redes neurais artificiais \n",
    "\n",
    "-Utilizado para problemas complexos e também em cenários com Big Data\n",
    "\n",
    "-Deep Learning é uma forda de rede neural\n",
    "\n",
    "-A ideia da rede neural é imitar o sistema nervoso de humanos no processo de aprendizagem, inspirado em redes neurais biológicas.\n",
    "\n",
    "-Rede neural não é recente, mas voltou a ser popular pelo Deep Learning\n",
    "\n",
    "-Neurônio artificial: tudo ou nada (ativado apenas em 1, caso contrário 0)\n",
    "    Peso positivo: sinapse excitadora\n",
    "    Peso negativo: sinapse inibidora\n",
    "    Pesos são sinapeses\n",
    "    Conhecimento da rede neural são os pesos\n",
    "    Pesos amplificam ou reduzem o sinal de entrada\n",
    "    \n",
    "-Revisão de aprendizagem de máquina \n",
    "    Supervisionada: existe a figura do supervisor \n",
    "    \n",
    "-Aprendizagem não-supervisonada\n",
    "    Analisar automaticamente os dados (associação, agrupamento)\n",
    "    Necessita análise\n",
    "    \n",
    "-Aprendizabem por reforço \n",
    "    Aprender com as interações com o ambiente\n",
    "    Aprender com a sua própria experiência\n",
    "   \n",
    "-Calcular erro\n",
    "    Os pesos são atualizados até os erros seres pequenos\n",
    "    peso(n+1) = peso(n) + (taxaAprendizagem*entrada*erro)\n",
    "    O peso muda para todos \n",
    "    Processo iterativo para ajustar os pesos até chegar em número maiores de acertos\n",
    "    \n",
    "#### O método de tentativa e erro é utilizado para a rede neural encontrar os melhores pesos\n",
    "\n",
    "## Rede neural multicamadas (multilayer perceptron)\n",
    "\n",
    "-Para problemas linearmente separáveis\n",
    "\n",
    "-Hidden layers -> em cada camada há peso (escondida ou não)\n",
    "\n",
    "### Redes neurais\n",
    "    Fornece um valor de entrada, a rede processa e retorna uma resposta (feed forward)\n",
    "    \n",
    "    O neurônio é ativado somente se o valor for maior que o limiar\n",
    "    \n",
    "-Várias funções de ativação de rede neural (degrau, senoidal, etc)\n",
    "\n",
    "-Neurônio sigmoide (forma de 'S', admite 0 e 1)\n",
    "\n",
    "-Para se obter os resultados nas redes ocultas se faz a multiplacação e soma das entradas com o peso. O resultado \"final\" será a soma aplicada na função.\n",
    "\n",
    "-Para calcular o $erro= respostaCerta - respostaCalculada$\n",
    "\n",
    "### Algoritmo\n",
    "\n",
    "    Inicializa os pesos com valores aleatórios\n",
    "    \n",
    "    Baseado nos dados (aprendizagem supervisionada), realiza os cálculos com os pesos e calcula o erro\n",
    "    \n",
    "    Calcula as mudanças nos pesos e os atualiza\n",
    "    \n",
    "    O algoritmo termina quando o erro é pequeno\n",
    "    \n",
    "    Cost function\n",
    "\n",
    "-O cálculo dos pesos é feito por:\n",
    "\n",
    "    -> Gradiente:\n",
    "        Valor mais correto, mas demanda muito esforço computacional.\n",
    "        Gradiente é calculado para saber quanto ajustar os pesos.\n",
    "        Derivada parcial da função \n",
    "        Cálculo do delta\n",
    "            Cálculo da camada de saída e depois cálculo da camada oculta\n",
    "            \n",
    "$ DeltaSaída = Erro * DerivadaSigmoide $\n",
    "    \n",
    "    -> Backpropagation:\n",
    "        Da camada de saída para entrada\n",
    "         \n",
    "$ peso_{n+1} = (peso_n *momento) + (entrada*delta* TaxaDeAprendizagem) $\n",
    "\n",
    "        Taxa de aprendizagem (learning rate)\n",
    "            Define quão rápido o algoritmo vai aprender\n",
    "            Alto: a convergência é rápida mas pode perder o mínimo flobal\n",
    "            Baixo: será mais lento mas tem mais chances de chegar no mínimo global\n",
    "            \n",
    "        Momento (momentum)\n",
    "            Escapar de mínimos locais (nem sempre funciona)\n",
    "            Define quão confiável é a última alteração\n",
    "            Alto: aumenta a velocidade da convergência\n",
    "            Baixo: pode evitar mínimos locais\n",
    "            \n",
    "### Bias\n",
    "    adiciona 1 em cada camada (oculta e saída)\n",
    "    \n",
    "    Valores diferentes mesmo se todas as entradas forem 0 \n",
    "    \n",
    "    Muda a saída com a unidade de bias\n",
    "    \n",
    "-Os erros também podem ser calculador pelo mean square error e root mean squre error\n",
    "    Erros maiories contam mais que erros menores\n",
    "    Erros maiores são mais penalizados\n",
    "    \n",
    "### Camadas ocultas \n",
    "\n",
    "$ Neurônios= (Entradas + Saída)/2 $\n",
    "    \n",
    "    Probemas linearmente separáveis não necessitam de camadas ocultas. \n",
    "    Problemas complexos como carros autonomos, processamento de imagens, necessitam.\n",
    "    Cross validation (validação cruzada)\n",
    "    Aprendizagem de máquina automática (AutoML)\n",
    "    Em geral, duas camdas funcionam para poucos dados\n",
    "    \n",
    "-Quanto maior o valor da ativação, mas impacto o neurônio possui\n",
    "\n",
    "### Batch Gradient descent\n",
    "    calcula o erros para todos os registros e atuliza os pesos\n",
    "    \n",
    "### Stochastic Gradient descent\n",
    "    calcula o erro para cada registro e atualiza os pesos\n",
    "\n",
    "    Ajuda a prevenir mínimos locais (superfícies não convexas)\n",
    "    \n",
    "    Mais rápido (não precisa carregar todos os dados em memória)\n",
    "\n",
    "### Mini batch gradient descent\n",
    "\n",
    "    Escolhe um número de registros para rodar e atualizar os pesos\n",
    "         "
   ]
  },
  {
   "cell_type": "code",
   "execution_count": null,
   "metadata": {},
   "outputs": [],
   "source": [
    "from sklearn.neural_network import MLPClassifier"
   ]
  },
  {
   "cell_type": "code",
   "execution_count": null,
   "metadata": {},
   "outputs": [],
   "source": [
    "x_census_treinamento.shape, y_census_treinamento.shape"
   ]
  },
  {
   "cell_type": "code",
   "execution_count": null,
   "metadata": {},
   "outputs": [],
   "source": [
    "x_census_teste.shape, y_census_teste.shape"
   ]
  },
  {
   "cell_type": "code",
   "execution_count": null,
   "metadata": {},
   "outputs": [],
   "source": [
    "rede_neural_census = MLPClassifier(verbose=True, max_iter = 1000, tol=0.000010,\n",
    "                                  hidden_layer_sizes = (55,55))\n",
    "rede_neural_census.fit(x_census_treinamento, y_census_treinamento)"
   ]
  },
  {
   "cell_type": "markdown",
   "metadata": {},
   "source": [
    "# Avaliação de algoritmo de classificação\n",
    "\n",
    "-A área de Machine Learning está ligada à estatística\n",
    "\n",
    "### Matriz de confusão\n",
    "    Tabela que mostra os erros em cada classificação (confusão no sentido da classificação se errada)\n",
    "    É gerada baseada na tabela de dados\n",
    "    Diagonal principal: registros classificados certo\n",
    "    Conceito de verdadeiro positivos, verdadeiros negativos, falso positivos e falsos negativos nas classificações\n",
    "     \n",
    "### Precisão\n",
    "    quando o modelo previu SIM, o quanto o modelo estava certo?\n",
    "\n",
    "### Recall\n",
    "    quando a classe é SIM, o quanto o modelo classificou corretamente? \n",
    "    \n",
    "    Proporção de positivos identificados corretamente \n",
    "    \n",
    "### Validação cruzada (K-fold Cross Validation)\n",
    "\n",
    "    Divide os dados de forma adequada para treinamento e teste\n",
    "    \n",
    "    Usada mais para pesquisa por ser o método mais eficiente\n",
    "    \n",
    "    Todos os dados são usados para treinamento e teste, mas em momentos diferentes\n",
    "    \n",
    "    k=10 é valor aceito na maioria dos artigos, acima disso é praticamente ineficiente \n",
    "\n",
    "### Underfitting\n",
    "    \"subestimar o problema\"\n",
    "\n",
    "    Resultados ruins a base de treinamento\n",
    "    \n",
    "### Overfitting\n",
    "\n",
    "    Resultado bons na base de treinamento\n",
    "    \n",
    "    Resultados ruins na base de teste\n",
    "    \n",
    "    Muito específico\n",
    "    \n",
    "    Memorização\n",
    "    \n",
    "    Erros na variação de novasinstâncias\n",
    "    \n",
    "-Trabalhar com o GridSearch para identificar o método mais efetivo\n",
    "\n",
    "-Fazer o desvio padrão para analisar os resultados dos dados (é desejado uma variação pequena)\n",
    "\n",
    "### Distribuição normal\n",
    "\n",
    "    O que em geral acontece\n",
    "    \n",
    "    O gráfico é representado pela forma sino\n",
    "    \n",
    "### Testes de hipótese\n",
    "    \n",
    "    Resposta sim ou não, para confirmar ou rejeitar uma afirmação\n",
    "    \n",
    "    Hipótese: ideia a ser testada\n",
    "    \n",
    "    Hipótese nula (H0)\n",
    "        Afirmação que já existia\n",
    "        Presumir que é verdadeira até que se prove o contrário\n",
    "        \n",
    "    Hipótese alternativa (H1)\n",
    "        O que está tentando provar (tudo o que é diferente da nula)\n",
    "        \n",
    "        Alpha: probabiliade de rejeotar a hipótese nula, quanto menos mais seguro é resultado (nível de significância)- em gerl 0,01 ou 0,05\n",
    "        5% de chances de concluir que existe uma diferença quando não há diferença real\n",
    "        \n",
    "        Valor de p (p-value)\n",
    "            p-value >= alpha: não rejeita H0\n",
    "            p-value < alpha: rejeita H0\n",
    "            \n",
    "    Erro tipo I: rejeitar a hipótese nula quando não deveria\n",
    "    Erro tipo II: não rejeitar nula quando deveria ter rejeitado\n",
    "    \n",
    "    Teste de hipótese Z: valor de p é menor que alpha, o que indica que rejeitamos a hipótese nula (H0) e aceitamos H1\n",
    "    \n",
    "### Anova: Análise de variação\n",
    "    \n",
    "    Comparação entre 3 ou mais grupos (amostras independentes)\n",
    "    \n",
    "    Uma variável quantitativa e uma ou mais variáveis qualitativas\n",
    "    \n",
    "    Distribuição normal (estatística paramétrica)\n",
    "    \n",
    "    Variação entre os grupos comparando a variação dentro dos grupos \n",
    "    \n",
    "    H0: não há diferença estatística\n",
    "    \n",
    "    H1: há diferença estatística\n",
    "    \n",
    "    \n",
    "### Teste de Tukey\n",
    "\n",
    "    Teste estatístico para verificar qual método é mais eficaz.\n",
    "    \n",
    "- Salvar um classificador já treinado\n",
    "\n",
    "    Fazer quando já temos o passo anterior (estatística da eficiência das técnicas)\n",
    "    \n",
    "    Principalmente usado para modelo comercial \n",
    "    \n",
    " "
   ]
  },
  {
   "cell_type": "code",
   "execution_count": null,
   "metadata": {},
   "outputs": [],
   "source": [
    "from sklearn.model_selection import GridSearchCV\n",
    "from sklearn.tree import DecisionTreeClassifier\n",
    "from sklearn.ensemble import RandomForestClassifier\n",
    "from sklearn.neighbors import KNeighborsClassifier\n",
    "from sklearn.linear_model import LogisticRegression\n",
    "from sklearn.svm import SVC\n",
    "from sklearn.neural_network import MLPClassifier"
   ]
  },
  {
   "cell_type": "code",
   "execution_count": null,
   "metadata": {},
   "outputs": [],
   "source": [
    "from sklearn.model_selection import cross_val_score, KFold"
   ]
  },
  {
   "cell_type": "markdown",
   "metadata": {},
   "source": []
  },
  {
   "cell_type": "markdown",
   "metadata": {},
   "source": [
    "# Combinação e rejeição de classificadores\n",
    "\n",
    "### Combinação de classificadores\n",
    "    - Classificação mais precisa\n",
    "    \n",
    "    - Busca-se o melhor conunto de classificadores\n",
    "    \n",
    "    - Diminui o risco de selecionar um classificador indivual inadequado\n",
    "\n",
    "### Reijeição de classificadores \n",
    "    - Em aplicações reais:\n",
    "    \n",
    "        * Apontar uma única hipótese\n",
    "        * Rejeitar o resultado senão tiver certeza suficiente\n",
    "        * Aceita ou rejeita a hipótese e envia ao usuário\n",
    "        \n",
    "    - Na aplicação, a probabilidade do classficador não pode estar como falso\n",
    "       "
   ]
  },
  {
   "cell_type": "markdown",
   "metadata": {},
   "source": [
    "# Regressão linear\n",
    "\n",
    "### Covariância, coeficiente de correlação e determinação\n",
    "\n",
    "    - Relação matemática entre duas variáveis\n",
    "    - Cálculo da covariância\n",
    "\n",
    "$C(x,y)= \\frac{\\Sigma(x_i-x)*(y_i-y)}{n-1}$\n",
    "\n",
    "    - Cálculo do coeficiente de correlação\n",
    "      \n",
    "$C_r(x,y)=  \\frac{C_{ov}(x,y)} {S_{td}(x)*S_{td}(y)}$\n",
    "\n",
    "$S_{td}(x)$ = desvio padrão de x\n",
    "\n",
    "    - Coeficiente de determinação\n",
    "      \n",
    "$C_d(x,y)= C_r^2$ -> está entre 0 e 1. Considera os valores negativos como oposto dos negativos\n",
    "\n",
    "    - Correlação não é causa. Se o coeficiente for alto, é preciso avaliar o contexto das variáveis.\n",
    "\n",
    "### Regressão linear - Teoria\n",
    "\n",
    "    - Modelagem da relação entre variáveis numéricas (variável dependente y e variáveis explanatórias x)\n",
    "    \n",
    "    - Temperatura, umidade e pressão do ar (x) -> velociade do vento (y)\n",
    "    \n",
    "$ y= b_0 +b_1 *x+1$ -> equação da reta (acompanha a linearidade dos dados)\n",
    "\n",
    "    - Para medir o erro, usa-se mean square error\n",
    "    \n",
    "    - Design matrix (álgebra linear)\n",
    "    \n",
    "        *Base de dados com poucos atributos\n",
    "        *Inverão de matrizes que tem um custo computacional alto\n",
    "        \n",
    "    - Descida do gradiente \n",
    "        \n",
    "\n",
    "### Regressão linear simples - base plano de saúde\n",
    "    \n",
    "    - Estipular quanto seria um plano de saúde de acordo com a saúde\n",
    "    \n",
    "### Métricas de erros\n",
    "\n",
    "    -Mean absolute error (MAE)\n",
    "        Diferenças aboslutas entre as previsões e os valores reais\n",
    "$MAE= \\frac{1}{n} \\Sigma y_i-y_i$\n",
    "\n",
    "    - Mean squared error (MSE)\n",
    "        Diferenças elevadas ao quadrado erros penalizados\n",
    "        \n",
    "$MSE= \\frac{1}{n} \\Sigma (y_i-y_i)^2$\n",
    "        \n",
    "    - Root mean squared error (RMSE)\n",
    "        Interpretação facilitada\n",
    "\n",
    "$RMSE= \\frac{1}{n} \\sqrt \\Sigma (y_i-y_i)²$\n",
    "\n",
    "        \n",
    "\n"
   ]
  },
  {
   "cell_type": "code",
   "execution_count": 4,
   "metadata": {},
   "outputs": [],
   "source": [
    "base_casas = pd.read_csv(\"C:\\\\Users\\\\User\\\\house_prices.csv\")"
   ]
  },
  {
   "cell_type": "code",
   "execution_count": 6,
   "metadata": {},
   "outputs": [
    {
     "data": {
      "text/html": [
       "<div>\n",
       "<style scoped>\n",
       "    .dataframe tbody tr th:only-of-type {\n",
       "        vertical-align: middle;\n",
       "    }\n",
       "\n",
       "    .dataframe tbody tr th {\n",
       "        vertical-align: top;\n",
       "    }\n",
       "\n",
       "    .dataframe thead th {\n",
       "        text-align: right;\n",
       "    }\n",
       "</style>\n",
       "<table border=\"1\" class=\"dataframe\">\n",
       "  <thead>\n",
       "    <tr style=\"text-align: right;\">\n",
       "      <th></th>\n",
       "      <th>longitude</th>\n",
       "      <th>latitude</th>\n",
       "      <th>housing_median_age</th>\n",
       "      <th>total_rooms</th>\n",
       "      <th>total_bedrooms</th>\n",
       "      <th>population</th>\n",
       "      <th>households</th>\n",
       "      <th>median_income</th>\n",
       "      <th>median_house_value</th>\n",
       "    </tr>\n",
       "  </thead>\n",
       "  <tbody>\n",
       "    <tr>\n",
       "      <th>count</th>\n",
       "      <td>3000.000000</td>\n",
       "      <td>3000.00000</td>\n",
       "      <td>3000.000000</td>\n",
       "      <td>3000.000000</td>\n",
       "      <td>3000.000000</td>\n",
       "      <td>3000.000000</td>\n",
       "      <td>3000.00000</td>\n",
       "      <td>3000.000000</td>\n",
       "      <td>3000.00000</td>\n",
       "    </tr>\n",
       "    <tr>\n",
       "      <th>mean</th>\n",
       "      <td>-119.589200</td>\n",
       "      <td>35.63539</td>\n",
       "      <td>28.845333</td>\n",
       "      <td>2599.578667</td>\n",
       "      <td>529.950667</td>\n",
       "      <td>1402.798667</td>\n",
       "      <td>489.91200</td>\n",
       "      <td>3.807272</td>\n",
       "      <td>205846.27500</td>\n",
       "    </tr>\n",
       "    <tr>\n",
       "      <th>std</th>\n",
       "      <td>1.994936</td>\n",
       "      <td>2.12967</td>\n",
       "      <td>12.555396</td>\n",
       "      <td>2155.593332</td>\n",
       "      <td>415.654368</td>\n",
       "      <td>1030.543012</td>\n",
       "      <td>365.42271</td>\n",
       "      <td>1.854512</td>\n",
       "      <td>113119.68747</td>\n",
       "    </tr>\n",
       "    <tr>\n",
       "      <th>min</th>\n",
       "      <td>-124.180000</td>\n",
       "      <td>32.56000</td>\n",
       "      <td>1.000000</td>\n",
       "      <td>6.000000</td>\n",
       "      <td>2.000000</td>\n",
       "      <td>5.000000</td>\n",
       "      <td>2.00000</td>\n",
       "      <td>0.499900</td>\n",
       "      <td>22500.00000</td>\n",
       "    </tr>\n",
       "    <tr>\n",
       "      <th>25%</th>\n",
       "      <td>-121.810000</td>\n",
       "      <td>33.93000</td>\n",
       "      <td>18.000000</td>\n",
       "      <td>1401.000000</td>\n",
       "      <td>291.000000</td>\n",
       "      <td>780.000000</td>\n",
       "      <td>273.00000</td>\n",
       "      <td>2.544000</td>\n",
       "      <td>121200.00000</td>\n",
       "    </tr>\n",
       "    <tr>\n",
       "      <th>50%</th>\n",
       "      <td>-118.485000</td>\n",
       "      <td>34.27000</td>\n",
       "      <td>29.000000</td>\n",
       "      <td>2106.000000</td>\n",
       "      <td>437.000000</td>\n",
       "      <td>1155.000000</td>\n",
       "      <td>409.50000</td>\n",
       "      <td>3.487150</td>\n",
       "      <td>177650.00000</td>\n",
       "    </tr>\n",
       "    <tr>\n",
       "      <th>75%</th>\n",
       "      <td>-118.020000</td>\n",
       "      <td>37.69000</td>\n",
       "      <td>37.000000</td>\n",
       "      <td>3129.000000</td>\n",
       "      <td>636.000000</td>\n",
       "      <td>1742.750000</td>\n",
       "      <td>597.25000</td>\n",
       "      <td>4.656475</td>\n",
       "      <td>263975.00000</td>\n",
       "    </tr>\n",
       "    <tr>\n",
       "      <th>max</th>\n",
       "      <td>-114.490000</td>\n",
       "      <td>41.92000</td>\n",
       "      <td>52.000000</td>\n",
       "      <td>30450.000000</td>\n",
       "      <td>5419.000000</td>\n",
       "      <td>11935.000000</td>\n",
       "      <td>4930.00000</td>\n",
       "      <td>15.000100</td>\n",
       "      <td>500001.00000</td>\n",
       "    </tr>\n",
       "  </tbody>\n",
       "</table>\n",
       "</div>"
      ],
      "text/plain": [
       "         longitude    latitude  housing_median_age   total_rooms  \\\n",
       "count  3000.000000  3000.00000         3000.000000   3000.000000   \n",
       "mean   -119.589200    35.63539           28.845333   2599.578667   \n",
       "std       1.994936     2.12967           12.555396   2155.593332   \n",
       "min    -124.180000    32.56000            1.000000      6.000000   \n",
       "25%    -121.810000    33.93000           18.000000   1401.000000   \n",
       "50%    -118.485000    34.27000           29.000000   2106.000000   \n",
       "75%    -118.020000    37.69000           37.000000   3129.000000   \n",
       "max    -114.490000    41.92000           52.000000  30450.000000   \n",
       "\n",
       "       total_bedrooms    population  households  median_income  \\\n",
       "count     3000.000000   3000.000000  3000.00000    3000.000000   \n",
       "mean       529.950667   1402.798667   489.91200       3.807272   \n",
       "std        415.654368   1030.543012   365.42271       1.854512   \n",
       "min          2.000000      5.000000     2.00000       0.499900   \n",
       "25%        291.000000    780.000000   273.00000       2.544000   \n",
       "50%        437.000000   1155.000000   409.50000       3.487150   \n",
       "75%        636.000000   1742.750000   597.25000       4.656475   \n",
       "max       5419.000000  11935.000000  4930.00000      15.000100   \n",
       "\n",
       "       median_house_value  \n",
       "count          3000.00000  \n",
       "mean         205846.27500  \n",
       "std          113119.68747  \n",
       "min           22500.00000  \n",
       "25%          121200.00000  \n",
       "50%          177650.00000  \n",
       "75%          263975.00000  \n",
       "max          500001.00000  "
      ]
     },
     "execution_count": 6,
     "metadata": {},
     "output_type": "execute_result"
    }
   ],
   "source": [
    "base_casas.describe()"
   ]
  },
  {
   "cell_type": "code",
   "execution_count": 7,
   "metadata": {},
   "outputs": [
    {
     "data": {
      "text/plain": [
       "longitude             0\n",
       "latitude              0\n",
       "housing_median_age    0\n",
       "total_rooms           0\n",
       "total_bedrooms        0\n",
       "population            0\n",
       "households            0\n",
       "median_income         0\n",
       "median_house_value    0\n",
       "dtype: int64"
      ]
     },
     "execution_count": 7,
     "metadata": {},
     "output_type": "execute_result"
    }
   ],
   "source": [
    "base_casas.isnull().sum()"
   ]
  },
  {
   "cell_type": "code",
   "execution_count": 9,
   "metadata": {},
   "outputs": [
    {
     "data": {
      "text/html": [
       "<div>\n",
       "<style scoped>\n",
       "    .dataframe tbody tr th:only-of-type {\n",
       "        vertical-align: middle;\n",
       "    }\n",
       "\n",
       "    .dataframe tbody tr th {\n",
       "        vertical-align: top;\n",
       "    }\n",
       "\n",
       "    .dataframe thead th {\n",
       "        text-align: right;\n",
       "    }\n",
       "</style>\n",
       "<table border=\"1\" class=\"dataframe\">\n",
       "  <thead>\n",
       "    <tr style=\"text-align: right;\">\n",
       "      <th></th>\n",
       "      <th>longitude</th>\n",
       "      <th>latitude</th>\n",
       "      <th>housing_median_age</th>\n",
       "      <th>total_rooms</th>\n",
       "      <th>total_bedrooms</th>\n",
       "      <th>population</th>\n",
       "      <th>households</th>\n",
       "      <th>median_income</th>\n",
       "      <th>median_house_value</th>\n",
       "    </tr>\n",
       "  </thead>\n",
       "  <tbody>\n",
       "    <tr>\n",
       "      <th>longitude</th>\n",
       "      <td>1.000000</td>\n",
       "      <td>-0.925017</td>\n",
       "      <td>-0.064203</td>\n",
       "      <td>0.049865</td>\n",
       "      <td>0.070869</td>\n",
       "      <td>0.111572</td>\n",
       "      <td>0.051062</td>\n",
       "      <td>-0.018701</td>\n",
       "      <td>-0.050662</td>\n",
       "    </tr>\n",
       "    <tr>\n",
       "      <th>latitude</th>\n",
       "      <td>-0.925017</td>\n",
       "      <td>1.000000</td>\n",
       "      <td>-0.025143</td>\n",
       "      <td>-0.039632</td>\n",
       "      <td>-0.068245</td>\n",
       "      <td>-0.117318</td>\n",
       "      <td>-0.068296</td>\n",
       "      <td>-0.072363</td>\n",
       "      <td>-0.138428</td>\n",
       "    </tr>\n",
       "    <tr>\n",
       "      <th>housing_median_age</th>\n",
       "      <td>-0.064203</td>\n",
       "      <td>-0.025143</td>\n",
       "      <td>1.000000</td>\n",
       "      <td>-0.367850</td>\n",
       "      <td>-0.323154</td>\n",
       "      <td>-0.299888</td>\n",
       "      <td>-0.305171</td>\n",
       "      <td>-0.144315</td>\n",
       "      <td>0.091409</td>\n",
       "    </tr>\n",
       "    <tr>\n",
       "      <th>total_rooms</th>\n",
       "      <td>0.049865</td>\n",
       "      <td>-0.039632</td>\n",
       "      <td>-0.367850</td>\n",
       "      <td>1.000000</td>\n",
       "      <td>0.937749</td>\n",
       "      <td>0.838867</td>\n",
       "      <td>0.914116</td>\n",
       "      <td>0.221249</td>\n",
       "      <td>0.160427</td>\n",
       "    </tr>\n",
       "    <tr>\n",
       "      <th>total_bedrooms</th>\n",
       "      <td>0.070869</td>\n",
       "      <td>-0.068245</td>\n",
       "      <td>-0.323154</td>\n",
       "      <td>0.937749</td>\n",
       "      <td>1.000000</td>\n",
       "      <td>0.856387</td>\n",
       "      <td>0.970758</td>\n",
       "      <td>0.024025</td>\n",
       "      <td>0.082279</td>\n",
       "    </tr>\n",
       "    <tr>\n",
       "      <th>population</th>\n",
       "      <td>0.111572</td>\n",
       "      <td>-0.117318</td>\n",
       "      <td>-0.299888</td>\n",
       "      <td>0.838867</td>\n",
       "      <td>0.856387</td>\n",
       "      <td>1.000000</td>\n",
       "      <td>0.895530</td>\n",
       "      <td>0.032361</td>\n",
       "      <td>-0.001192</td>\n",
       "    </tr>\n",
       "    <tr>\n",
       "      <th>households</th>\n",
       "      <td>0.051062</td>\n",
       "      <td>-0.068296</td>\n",
       "      <td>-0.305171</td>\n",
       "      <td>0.914116</td>\n",
       "      <td>0.970758</td>\n",
       "      <td>0.895530</td>\n",
       "      <td>1.000000</td>\n",
       "      <td>0.048625</td>\n",
       "      <td>0.100176</td>\n",
       "    </tr>\n",
       "    <tr>\n",
       "      <th>median_income</th>\n",
       "      <td>-0.018701</td>\n",
       "      <td>-0.072363</td>\n",
       "      <td>-0.144315</td>\n",
       "      <td>0.221249</td>\n",
       "      <td>0.024025</td>\n",
       "      <td>0.032361</td>\n",
       "      <td>0.048625</td>\n",
       "      <td>1.000000</td>\n",
       "      <td>0.672695</td>\n",
       "    </tr>\n",
       "    <tr>\n",
       "      <th>median_house_value</th>\n",
       "      <td>-0.050662</td>\n",
       "      <td>-0.138428</td>\n",
       "      <td>0.091409</td>\n",
       "      <td>0.160427</td>\n",
       "      <td>0.082279</td>\n",
       "      <td>-0.001192</td>\n",
       "      <td>0.100176</td>\n",
       "      <td>0.672695</td>\n",
       "      <td>1.000000</td>\n",
       "    </tr>\n",
       "  </tbody>\n",
       "</table>\n",
       "</div>"
      ],
      "text/plain": [
       "                    longitude  latitude  housing_median_age  total_rooms  \\\n",
       "longitude            1.000000 -0.925017           -0.064203     0.049865   \n",
       "latitude            -0.925017  1.000000           -0.025143    -0.039632   \n",
       "housing_median_age  -0.064203 -0.025143            1.000000    -0.367850   \n",
       "total_rooms          0.049865 -0.039632           -0.367850     1.000000   \n",
       "total_bedrooms       0.070869 -0.068245           -0.323154     0.937749   \n",
       "population           0.111572 -0.117318           -0.299888     0.838867   \n",
       "households           0.051062 -0.068296           -0.305171     0.914116   \n",
       "median_income       -0.018701 -0.072363           -0.144315     0.221249   \n",
       "median_house_value  -0.050662 -0.138428            0.091409     0.160427   \n",
       "\n",
       "                    total_bedrooms  population  households  median_income  \\\n",
       "longitude                 0.070869    0.111572    0.051062      -0.018701   \n",
       "latitude                 -0.068245   -0.117318   -0.068296      -0.072363   \n",
       "housing_median_age       -0.323154   -0.299888   -0.305171      -0.144315   \n",
       "total_rooms               0.937749    0.838867    0.914116       0.221249   \n",
       "total_bedrooms            1.000000    0.856387    0.970758       0.024025   \n",
       "population                0.856387    1.000000    0.895530       0.032361   \n",
       "households                0.970758    0.895530    1.000000       0.048625   \n",
       "median_income             0.024025    0.032361    0.048625       1.000000   \n",
       "median_house_value        0.082279   -0.001192    0.100176       0.672695   \n",
       "\n",
       "                    median_house_value  \n",
       "longitude                    -0.050662  \n",
       "latitude                     -0.138428  \n",
       "housing_median_age            0.091409  \n",
       "total_rooms                   0.160427  \n",
       "total_bedrooms                0.082279  \n",
       "population                   -0.001192  \n",
       "households                    0.100176  \n",
       "median_income                 0.672695  \n",
       "median_house_value            1.000000  "
      ]
     },
     "execution_count": 9,
     "metadata": {},
     "output_type": "execute_result"
    }
   ],
   "source": [
    "base_casas.corr()"
   ]
  },
  {
   "cell_type": "code",
   "execution_count": 11,
   "metadata": {
    "scrolled": true
   },
   "outputs": [
    {
     "data": {
      "text/plain": [
       "<matplotlib.axes._subplots.AxesSubplot at 0x1aa07d7a438>"
      ]
     },
     "execution_count": 11,
     "metadata": {},
     "output_type": "execute_result"
    },
    {
     "data": {
      "image/png": "[encoded data removed]",
      "text/plain": [
       "<Figure size 432x288 with 2 Axes>"
      ]
     },
     "metadata": {
      "needs_background": "light"
     },
     "output_type": "display_data"
    }
   ],
   "source": [
    "sns.heatmap(base_casas.corr())"
   ]
  },
  {
   "cell_type": "markdown",
   "metadata": {},
   "source": [
    "# Outros tipos de regressão\n",
    "\n",
    "### Regressão linear polinomial\n",
    "\n",
    "$ y= b_0+b_1 * x_1+b_2 * x_1^2 +...+ b_n * x_1^n$\n",
    "\n",
    "### Regressão com árvores de decisão\n",
    "\n",
    "    - Parecido com as árvores de decisão\n",
    "    - Variáveis independentes \n",
    "    - Usa os mesmos conceitos de entropia, etc, mas ao final usa a média anteriormente feita\n",
    "    - Regressão linear\n",
    "    \n",
    "### Regressão com Random Forest\n",
    "\n",
    "    -Ensemble learning (aprendizagem em conjunto)\n",
    "    \n",
    "    \"Consultar diversos profissionais pra tomar uma decisão\"\n",
    "        \n",
    "    Vários algoritmos juntos para construir um algoritmo mais \"forte\"\n",
    "        \n",
    "    Use a média (regressão) ou votos da maioria (classificação) para dar a resposta final\n",
    "    \n",
    "### Regressão com vetores de suporte\n",
    "\n",
    "    - Mantém as mesmas caraterísticas das máquinas de vetores de suporte para classificação\n",
    "    \n",
    "    - Mais difícil para fazer as previsões por setratar de números (muitas possibilidades)\n",
    "    \n",
    "    - Parâmetro epsilon\n",
    "        Penalidade do treinamento (distância para o valor real)\n",
    "        \n",
    "        \n",
    "        \n",
    "\n"
   ]
  },
  {
   "cell_type": "markdown",
   "metadata": {},
   "source": [
    "# Algoritmo apriori\n",
    "\n",
    "### Introdução a regras de associação\n",
    "-Sistemas de recomendação (ex: Netflix)\n",
    "-Análise de cestas de compras (Market Basket Analysis)\n",
    "\n",
    "-Suporte = número de registros com X e Y/Número total de registros -> frequência do item na base de dados\n",
    "\n",
    "### Algoritmo\n",
    "Fase 1: descobrir todos os conjuntos de itens com suporte maior ou igual a mínimo especificado pelo usuário\n",
    "\n",
    "Fase 2: A partir dos conjuntos de itens frequentes, descobrir a regras de associação com fator de confiança maior ou igual ao especificado pelo usuário.\n",
    "\n",
    "Fase 3: Calcular o suporte com 1 item e depois com 2 itens (fazer uma combinação de todos os elementos)\n",
    "\n",
    "### Confiança\n",
    "Lift: métrica para escolher qual regra é melhor\n",
    "Lift A>B (o quão mais frequente torna-se B quando A ocorre)\n",
    "Lift= confiança (A>B)/suporte(B)\n",
    "\n",
    "### ECLAT\n",
    "-Versão simplificada do Apriori\n",
    "-Apriori gera regras e a importância das regras pode ser medida pela confiança e lift\n",
    "-Utiliza somente o suporte (conjunto de itens)\n",
    "-Algoritmo\n",
    " 1) Definir o suporte \n",
    " 2) Extrair cojunto de itens que tenham suporte mínimo\n",
    " 3) Ordenar o dados de acordo com o suporte\n",
    " \n",
    "-Esse algoritmo não gera regras de associação, mas sim retorna o grupo de associação."
   ]
  },
  {
   "cell_type": "code",
   "execution_count": 1,
   "metadata": {},
   "outputs": [
    {
     "name": "stdout",
     "output_type": "stream",
     "text": [
      "Collecting apyori\n",
      "  Downloading https://files.pythonhosted.org/packages/5e/62/5ffde5c473ea4b033490617ec5caa80d59804875ad3c3c57c0976533a21a/apyori-1.1.2.tar.gz\n",
      "Building wheels for collected packages: apyori\n",
      "  Building wheel for apyori (setup.py): started\n",
      "  Building wheel for apyori (setup.py): finished with status 'done'\n",
      "  Stored in directory: C:\\Users\\User\\AppData\\Local\\pip\\Cache\\wheels\\5d\\92\\bb\\474bbadbc8c0062b9eb168f69982a0443263f8ab1711a8cad0\n",
      "Successfully built apyori\n",
      "Installing collected packages: apyori\n",
      "Successfully installed apyori-1.1.2\n"
     ]
    }
   ],
   "source": [
    "!pip install apyori\n"
   ]
  },
  {
   "cell_type": "code",
   "execution_count": 2,
   "metadata": {},
   "outputs": [],
   "source": [
    "import pandas as pd\n",
    "from apyori import apriori"
   ]
  },
  {
   "cell_type": "code",
   "execution_count": null,
   "metadata": {},
   "outputs": [],
   "source": []
  }
 ],
 "metadata": {
  "kernelspec": {
   "display_name": "Python 3",
   "language": "python",
   "name": "python3"
  },
  "language_info": {
   "codemirror_mode": {
    "name": "ipython",
    "version": 3
   },
   "file_extension": ".py",
   "mimetype": "text/x-python",
   "name": "python",
   "nbconvert_exporter": "python",
   "pygments_lexer": "ipython3",
   "version": "3.7.3"
  }
 },
 "nbformat": 4,
 "nbformat_minor": 2
}
